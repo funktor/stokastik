{
 "cells": [
  {
   "cell_type": "code",
   "execution_count": 1,
   "id": "f716a200-6e4a-4e3e-8e83-d8fc6a3aaadf",
   "metadata": {},
   "outputs": [],
   "source": [
    "import pandas as pd\n",
    "import numpy as np\n",
    "\n",
    "elas = \\\n",
    "    pd.read_csv(\"C:\\\\Users\\\\amondal\\\\model_exp\\\\prev_month_family_values.tsv\", sep=\"\\t\")"
   ]
  },
  {
   "cell_type": "code",
   "execution_count": 2,
   "id": "383362d1-b268-4d48-b72b-9e53c8928e7f",
   "metadata": {},
   "outputs": [],
   "source": [
    "curr_fv = \\\n",
    "    pd.read_csv(\"C:\\\\Users\\\\amondal\\\\model_exp\\\\family_values.tsv\", sep=\"\\t\")"
   ]
  },
  {
   "cell_type": "code",
   "execution_count": 3,
   "id": "8df2088d-4199-42d9-a55c-474b5601dd2b",
   "metadata": {},
   "outputs": [],
   "source": [
    "cap_map = \\\n",
    "    pd.read_csv(\"C:\\\\Users\\\\amondal\\\\model_exp\\\\cap_map.tsv\", sep=\"\\t\")"
   ]
  },
  {
   "cell_type": "code",
   "execution_count": 4,
   "id": "35304c3c-5444-422f-aa36-6d951376f930",
   "metadata": {},
   "outputs": [],
   "source": [
    "capacity = \\\n",
    "    pd.read_csv(\"C:\\\\Users\\\\amondal\\\\model_exp\\\\capacity.tsv\", sep=\"\\t\")"
   ]
  },
  {
   "cell_type": "code",
   "execution_count": 5,
   "id": "c633f370-30ad-4fce-a28e-0ce6f6cff823",
   "metadata": {},
   "outputs": [],
   "source": [
    "discount_grps = \\\n",
    "    pd.read_csv(\"C:\\\\Users\\\\amondal\\\\model_exp\\\\resources\\\\discount_groups.tsv\", sep=\"\\t\")"
   ]
  },
  {
   "cell_type": "code",
   "execution_count": 6,
   "id": "39aa6792-1ddc-495f-b609-252167207f6c",
   "metadata": {},
   "outputs": [],
   "source": [
    "import json\n",
    "\n",
    "with open(\"C:\\\\Users\\\\amondal\\\\model_exp\\\\resources\\\\geo_map_prod.json\") as f:\n",
    "    json_str = f.read()\n",
    "    geo_map = json.loads(json_str)"
   ]
  },
  {
   "cell_type": "code",
   "execution_count": 7,
   "id": "5d194857-7561-46cc-a9d7-ce87b00a8734",
   "metadata": {},
   "outputs": [],
   "source": [
    "with open(\"C:\\\\Users\\\\amondal\\\\model_exp\\\\resources\\\\sku_threshold_map.json\") as f:\n",
    "    json_str = f.read()\n",
    "    sku_threshold = json.loads(json_str)"
   ]
  },
  {
   "cell_type": "code",
   "execution_count": 8,
   "id": "8cb0395d-37b4-415d-ba0e-1c9e0227b356",
   "metadata": {},
   "outputs": [],
   "source": [
    "with open(\"C:\\\\Users\\\\amondal\\\\model_exp\\\\resources\\\\sku_type_map.json\") as f:\n",
    "    json_str = f.read()\n",
    "    sku_type = json.loads(json_str)"
   ]
  },
  {
   "cell_type": "code",
   "execution_count": 9,
   "id": "440fee69-4862-41a4-aba2-24190a26cce1",
   "metadata": {},
   "outputs": [],
   "source": [
    "with open(\"C:\\\\Users\\\\amondal\\\\model_exp\\\\resources\\\\price_constraints.json\") as f:\n",
    "    json_str = f.read()\n",
    "    price_constraints = json.loads(json_str)"
   ]
  },
  {
   "cell_type": "code",
   "execution_count": 10,
   "id": "43fce406-596b-4669-af45-22eae721604a",
   "metadata": {},
   "outputs": [],
   "source": [
    "grps = discount_grps['discount_group'].to_list()\n",
    "grps = [eval(x) for x in grps]\n",
    "grp_id_map = {}\n",
    "for i in range(len(grps)):\n",
    "    for x in grps[i]:\n",
    "        grp_id_map[x] = i"
   ]
  },
  {
   "cell_type": "code",
   "execution_count": 11,
   "id": "f98da952-130e-4621-aabe-79cbdaba649b",
   "metadata": {},
   "outputs": [],
   "source": [
    "elas['dg'] = elas['pre_process_family'].apply(lambda x: grp_id_map[x])"
   ]
  },
  {
   "cell_type": "code",
   "execution_count": 12,
   "id": "0a015014-8d2a-47fe-bad9-794bb8eb6d5a",
   "metadata": {},
   "outputs": [],
   "source": [
    "elas['alpha'] = np.nan\n",
    "elas['alpha'] = \\\n",
    "    (elas['OS'] == 'windows')*0.68 + \\\n",
    "    (elas['OS'] == 'linux')*1.06"
   ]
  },
  {
   "cell_type": "code",
   "execution_count": 13,
   "id": "9b2866a5-bac1-4abb-9253-e9dd3b7dd2a1",
   "metadata": {},
   "outputs": [],
   "source": [
    "elas['beta'] = np.nan\n",
    "elas['beta'] = \\\n",
    "    (elas['OS'] == 'windows')*-1.97 + \\\n",
    "    (elas['OS'] == 'linux')*-2.19"
   ]
  },
  {
   "cell_type": "code",
   "execution_count": 14,
   "id": "abb1bcc9-ca87-416f-89f7-83a9a399b9f0",
   "metadata": {},
   "outputs": [],
   "source": [
    "elas['gamma'] = np.nan\n",
    "elas['gamma'] = \\\n",
    "    (elas['OS'] == 'windows')*0.0 + \\\n",
    "    (elas['OS'] == 'linux')*0.0019"
   ]
  },
  {
   "cell_type": "code",
   "execution_count": 15,
   "id": "5013c467-1f12-4bf8-aad8-138830ec3b99",
   "metadata": {},
   "outputs": [],
   "source": [
    "elas['factor'] = elas['spot_core_price'].pow(elas['alpha']*elas['weight'])"
   ]
  },
  {
   "cell_type": "code",
   "execution_count": 16,
   "id": "9ae5636c-9a38-4de9-b7e5-77b7e1a75216",
   "metadata": {},
   "outputs": [],
   "source": [
    "factors = \\\n",
    "    elas[['pre_process_family', 'OS', 'factor']]\\\n",
    "    .groupby(by=['pre_process_family', 'OS'],as_index=False)\\\n",
    "    .agg(prod_factors=('factor', 'prod'))\n",
    "\n",
    "elas = pd.merge(elas, factors, on=['pre_process_family', 'OS'], how='left')"
   ]
  },
  {
   "cell_type": "code",
   "execution_count": 17,
   "id": "0a284c20-72c9-4a59-a383-d192ebf39142",
   "metadata": {},
   "outputs": [],
   "source": [
    "elas['demand_without_k'] = \\\n",
    "    elas['spot_core_price'].pow(elas['beta']) * elas['prod_factors'] / elas['factor']"
   ]
  },
  {
   "cell_type": "code",
   "execution_count": 18,
   "id": "a8b0a5ef-d577-49e5-a276-00f68ce05895",
   "metadata": {},
   "outputs": [],
   "source": [
    "elas['avg_daily_demand_w_nulls'] = \\\n",
    "    elas['totalDemand_ext_spot_nofraud'] / elas['totalDays_ext_spot_nofraud']\n",
    "\n",
    "elas['avg_daily_demand_removed_nulls'] = \\\n",
    "    elas['avg_daily_demand_w_nulls'].fillna(0.0)"
   ]
  },
  {
   "cell_type": "code",
   "execution_count": 19,
   "id": "28c8925a-877a-4fbb-8af0-6086b575643d",
   "metadata": {},
   "outputs": [],
   "source": [
    "elas['od_avg_daily_demand_w_nulls'] = \\\n",
    "    elas['totalDemand_ext_od_nofraud'] / elas['totalDays_ext_od_nofraud']\n",
    "\n",
    "elas['od_avg_daily_demand_removed_nulls'] = \\\n",
    "    elas['od_avg_daily_demand_w_nulls'].fillna(0.0)"
   ]
  },
  {
   "cell_type": "code",
   "execution_count": 20,
   "id": "ff29023d-9151-49f5-9677-9f0ad2ed04c2",
   "metadata": {},
   "outputs": [],
   "source": [
    "elas['k'] = elas['avg_daily_demand_removed_nulls']/elas['demand_without_k']"
   ]
  },
  {
   "cell_type": "code",
   "execution_count": 21,
   "id": "98b2a9fd-45fe-4e75-a19e-4f919be3abc8",
   "metadata": {},
   "outputs": [
    {
     "data": {
      "text/html": [
       "<div>\n",
       "<style scoped>\n",
       "    .dataframe tbody tr th:only-of-type {\n",
       "        vertical-align: middle;\n",
       "    }\n",
       "\n",
       "    .dataframe tbody tr th {\n",
       "        vertical-align: top;\n",
       "    }\n",
       "\n",
       "    .dataframe thead th {\n",
       "        text-align: right;\n",
       "    }\n",
       "</style>\n",
       "<table border=\"1\" class=\"dataframe\">\n",
       "  <thead>\n",
       "    <tr style=\"text-align: right;\">\n",
       "      <th></th>\n",
       "      <th>Location</th>\n",
       "      <th>pre_process_family</th>\n",
       "      <th>OS</th>\n",
       "      <th>weight_check</th>\n",
       "      <th>spot_core_price</th>\n",
       "      <th>od_core_price</th>\n",
       "      <th>current_avg_discount</th>\n",
       "      <th>min_spot_core_price</th>\n",
       "      <th>max_spot_core_price</th>\n",
       "      <th>min_od_core_price</th>\n",
       "      <th>...</th>\n",
       "      <th>beta</th>\n",
       "      <th>gamma</th>\n",
       "      <th>factor</th>\n",
       "      <th>prod_factors</th>\n",
       "      <th>demand_without_k</th>\n",
       "      <th>avg_daily_demand_w_nulls</th>\n",
       "      <th>avg_daily_demand_removed_nulls</th>\n",
       "      <th>od_avg_daily_demand_w_nulls</th>\n",
       "      <th>od_avg_daily_demand_removed_nulls</th>\n",
       "      <th>k</th>\n",
       "    </tr>\n",
       "  </thead>\n",
       "  <tbody>\n",
       "  </tbody>\n",
       "</table>\n",
       "<p>0 rows × 52 columns</p>\n",
       "</div>"
      ],
      "text/plain": [
       "Empty DataFrame\n",
       "Columns: [Location, pre_process_family, OS, weight_check, spot_core_price, od_core_price, current_avg_discount, min_spot_core_price, max_spot_core_price, min_od_core_price, max_od_core_price, min_discount, max_discount, weight, VCoreToPCoreRatio_spot, VCoreToPCoreRatio_od, totalDemand_ext_spot_nofraud, totalDays_ext_spot_nofraud, totalDemand_ext_od_nofraud, totalDays_ext_od_nofraud, util_weighted_hist_cap, max_hist_cap, Evictions_Demand, Evictions_Duration, Evictions_TotalInstances, Evictions_TotalCores, Evictions_EvicCount, Evictions_EvictedCores, Evictions_FirstHourEvictedCores, Evictions_FirstHourDemand, Evictions_FirstHourDuration, Evictions_FirstHourEvics, Evictions_InstancesWithLessThanHourUse, Evictions_CoresWithLessThanHourUse, max_wl_od_ratio, avg_wl_od_ratio, min_wl_od_ratio, max_actual_ratio_c, avg_actual_ratio_c, min_actual_ratio_c, dg, alpha, beta, gamma, factor, prod_factors, demand_without_k, avg_daily_demand_w_nulls, avg_daily_demand_removed_nulls, od_avg_daily_demand_w_nulls, od_avg_daily_demand_removed_nulls, k]\n",
       "Index: []\n",
       "\n",
       "[0 rows x 52 columns]"
      ]
     },
     "execution_count": 21,
     "metadata": {},
     "output_type": "execute_result"
    }
   ],
   "source": [
    "elas[elas.k.isna()]"
   ]
  },
  {
   "cell_type": "code",
   "execution_count": 22,
   "id": "63de2a81-eaf1-4c8b-bcc8-3d3d25ff5823",
   "metadata": {},
   "outputs": [],
   "source": [
    "# b = elas['avg_daily_demand_removed_nulls'].to_list()\n",
    "# d = \\\n",
    "#     elas[\"k\"]*elas[\"spot_core_price\"].pow(elas['beta'])*elas[\"prod_factors\"]/elas[\"factor\"]\n",
    "# d = d.to_list()\n",
    "# e = elas[\"k\"].to_list()\n",
    "# f = elas[\"spot_core_price\"].to_list()\n",
    "# g = elas['beta'].to_list()\n",
    "# h = elas[\"prod_factors\"].to_list()\n",
    "# j = elas[\"factor\"].to_list()\n",
    "# z = elas[\"spot_core_price\"].pow(elas['alpha']*elas['weight']).to_list()\n",
    "\n",
    "#print(list(zip(b[:1000], d[:1000], e[:1000], f[:1000], g[:1000], h[:1000], j[:1000], z[:1000])))"
   ]
  },
  {
   "cell_type": "code",
   "execution_count": 23,
   "id": "7b291eff-c75d-429c-b5da-f760d181b9aa",
   "metadata": {},
   "outputs": [],
   "source": [
    "override_columns = list(set(curr_fv.columns) - {\"Location\", \"pre_process_family\", \"OS\"})\n",
    "\n",
    "elas = \\\n",
    "    elas.rename(\n",
    "    columns={\n",
    "        col : f\"{col}_pre_override\"\\\n",
    "        for col in override_columns\n",
    "    }\n",
    ")\n",
    "\n",
    "elas = pd.merge(elas, \n",
    "                curr_fv, \n",
    "                on=['Location', 'pre_process_family', 'OS'], \n",
    "                how=\"inner\")"
   ]
  },
  {
   "cell_type": "code",
   "execution_count": 24,
   "id": "2b9475cb-1f09-4768-9aad-331d08f22b8b",
   "metadata": {},
   "outputs": [
    {
     "data": {
      "text/plain": [
       "[0.13335,\n",
       " 0.1014,\n",
       " 0.0678285714285714,\n",
       " 0.1153749999999999,\n",
       " 0.104625,\n",
       " 0.1506249999999999,\n",
       " 0.1353125,\n",
       " 0.1813125,\n",
       " 0.082494140625,\n",
       " 0.128494140625]"
      ]
     },
     "execution_count": 24,
     "metadata": {},
     "output_type": "execute_result"
    }
   ],
   "source": [
    "elas['od_core_price'].to_list()[:10]"
   ]
  },
  {
   "cell_type": "code",
   "execution_count": 25,
   "id": "07e1b0be-3f7c-4033-89f1-4c483cd2117d",
   "metadata": {},
   "outputs": [],
   "source": [
    "elas['od_core_price'] = \\\n",
    "    ( 1.0 / ( 1.0 - elas['current_avg_discount'] ) ) * elas['spot_core_price']\n",
    "\n",
    "elas['int_rounded_discount'] = \\\n",
    "    (100 * elas['current_avg_discount'].apply(lambda x : round(x, 2) )).apply(int)\n"
   ]
  },
  {
   "cell_type": "code",
   "execution_count": 26,
   "id": "b100868d-025a-4acb-aa4f-a549964214a1",
   "metadata": {},
   "outputs": [
    {
     "data": {
      "text/plain": [
       "[0.13335442491790273,\n",
       " 0.1014,\n",
       " 0.06782857142857095,\n",
       " 0.1153749999999999,\n",
       " 0.10462500000000001,\n",
       " 0.15062500360536585,\n",
       " 0.13531250000000003,\n",
       " 0.1813125007496699,\n",
       " 0.08249414062499996,\n",
       " 0.12849414062164993]"
      ]
     },
     "execution_count": 26,
     "metadata": {},
     "output_type": "execute_result"
    }
   ],
   "source": [
    "elas['od_core_price'].to_list()[:10]"
   ]
  },
  {
   "cell_type": "code",
   "execution_count": 27,
   "id": "fe24d199-712a-4a26-9ef5-f2ffdf50d02e",
   "metadata": {},
   "outputs": [
    {
     "data": {
      "text/plain": [
       "[49, 30, 90, 90, 90, 90, 90, 90, 74, 74]"
      ]
     },
     "execution_count": 27,
     "metadata": {},
     "output_type": "execute_result"
    }
   ],
   "source": [
    "elas['int_rounded_discount'].to_list()[:10]"
   ]
  },
  {
   "cell_type": "code",
   "execution_count": 28,
   "id": "72dca8d6-7754-4731-9317-e14607aec566",
   "metadata": {},
   "outputs": [],
   "source": [
    "k_vals =\\\n",
    "    elas[['Location', 'dg', 'OS', 'k']]\\\n",
    "    .groupby(['Location', 'dg', 'OS'], as_index=False)\\\n",
    "    .max()\n",
    "\n",
    "k_vals['opt'] = k_vals['k'] < 0.00001\n",
    "\n",
    "elas = \\\n",
    "    pd.merge(\\\n",
    "        elas,\n",
    "        k_vals[['Location', 'dg', 'OS', 'opt']],\n",
    "        how='inner',\n",
    "        on = ['Location', 'dg', 'OS']\n",
    "    )"
   ]
  },
  {
   "cell_type": "code",
   "execution_count": 29,
   "id": "4aad8ca7-3ac6-4b57-a735-59a6226db829",
   "metadata": {},
   "outputs": [],
   "source": [
    "elas_dg_er = \\\n",
    "    elas[['Location', 'dg', 'Evictions_FirstHourEvictedCores', 'Evictions_TotalCores']]\\\n",
    "    .groupby(by=['Location', 'dg'], as_index=False)\\\n",
    "    .agg(\\\n",
    "        Evictions_FirstHourEvictedCores_dg=('Evictions_FirstHourEvictedCores', 'sum'),\n",
    "        Evictions_TotalCores_dg=('Evictions_TotalCores', 'sum'))\n",
    "\n",
    "elas_dg_er['dg_er'] = \\\n",
    "    (elas_dg_er['Evictions_FirstHourEvictedCores_dg'])/(elas_dg_er['Evictions_TotalCores_dg']+1)\n",
    "\n",
    "elas_dg_er['dg_high'] = elas_dg_er['dg_er'] >= 0.05\n",
    "\n",
    "elas = pd.merge(elas, \n",
    "                elas_dg_er, \n",
    "                on=['Location', 'dg'], \n",
    "                how='inner')"
   ]
  },
  {
   "cell_type": "code",
   "execution_count": 30,
   "id": "79f83e55-94fb-4ec4-98dc-24de4c8c5cef",
   "metadata": {},
   "outputs": [],
   "source": [
    "elas['family_er'] = \\\n",
    "    (elas['Evictions_FirstHourEvictedCores'])/(elas['Evictions_TotalCores']+1)\n",
    "\n",
    "elas['family_high'] = elas['family_er'] > 0.05"
   ]
  },
  {
   "cell_type": "code",
   "execution_count": 31,
   "id": "a9e533f7-a009-41ce-8d3e-f99f2d24e8a9",
   "metadata": {},
   "outputs": [],
   "source": [
    "df5 = elas[elas.family_high != elas.dg_high][['Location', 'pre_process_family', 'OS', 'family_er', 'dg_er', 'family_high', 'dg_high']]\n",
    "df5.to_csv(\"conflict_dg_family_er.csv\", sep=\",\")"
   ]
  },
  {
   "cell_type": "code",
   "execution_count": 32,
   "id": "aa3a502a-8f39-482a-8f73-63c234a19f85",
   "metadata": {},
   "outputs": [],
   "source": [
    "elas_dg_demand = \\\n",
    "    elas[['Location', 'dg', 'avg_daily_demand_removed_nulls']]\\\n",
    "    .groupby(by=['Location', 'dg'],as_index=False)\\\n",
    "    .agg(\\\n",
    "        dg_total_demand=('avg_daily_demand_removed_nulls', 'sum'))\n",
    "\n",
    "elas = pd.merge(elas, \n",
    "                elas_dg_demand, \n",
    "                on=['Location', 'dg'], \n",
    "                how='inner')"
   ]
  },
  {
   "cell_type": "code",
   "execution_count": 33,
   "id": "95ec46f7-356a-4562-970e-f6f2565760c9",
   "metadata": {},
   "outputs": [],
   "source": [
    "elas['min_price_er'] = \\\n",
    "    (elas['dg_high'] * 0.9 * elas['spot_core_price']) + \\\n",
    "    (~elas['dg_high'] * 0.8 * elas['spot_core_price']) "
   ]
  },
  {
   "cell_type": "code",
   "execution_count": 34,
   "id": "850ffe7e-d271-44ab-8184-38657b93c6c9",
   "metadata": {},
   "outputs": [],
   "source": [
    "elas['max_price_er'] = \\\n",
    "    (elas['dg_high'] * 1.1 * elas['spot_core_price']) + \\\n",
    "    (~elas['dg_high'] * 1.05 * elas['spot_core_price']) "
   ]
  },
  {
   "cell_type": "code",
   "execution_count": 35,
   "id": "66a91e42-82e0-4a36-b20e-dac7652c7618",
   "metadata": {},
   "outputs": [],
   "source": [
    "elas['min_price_global'] = 0.1*elas['od_core_price']"
   ]
  },
  {
   "cell_type": "code",
   "execution_count": 36,
   "id": "7217614a-bb19-427e-ba1e-cdf8a9f250ab",
   "metadata": {},
   "outputs": [],
   "source": [
    "elas['max_price_global'] = 0.7*elas['od_core_price']"
   ]
  },
  {
   "cell_type": "code",
   "execution_count": 37,
   "id": "a657fc1c-39e2-446a-86bb-c6e15240cb44",
   "metadata": {},
   "outputs": [
    {
     "data": {
      "text/html": [
       "<div>\n",
       "<style scoped>\n",
       "    .dataframe tbody tr th:only-of-type {\n",
       "        vertical-align: middle;\n",
       "    }\n",
       "\n",
       "    .dataframe tbody tr th {\n",
       "        vertical-align: top;\n",
       "    }\n",
       "\n",
       "    .dataframe thead th {\n",
       "        text-align: right;\n",
       "    }\n",
       "</style>\n",
       "<table border=\"1\" class=\"dataframe\">\n",
       "  <thead>\n",
       "    <tr style=\"text-align: right;\">\n",
       "      <th></th>\n",
       "      <th>min_price_er</th>\n",
       "      <th>max_price_er</th>\n",
       "      <th>min_price_global</th>\n",
       "      <th>max_price_global</th>\n",
       "    </tr>\n",
       "  </thead>\n",
       "  <tbody>\n",
       "    <tr>\n",
       "      <th>0</th>\n",
       "      <td>0.053924</td>\n",
       "      <td>0.070776</td>\n",
       "      <td>0.013335</td>\n",
       "      <td>0.093348</td>\n",
       "    </tr>\n",
       "    <tr>\n",
       "      <th>1</th>\n",
       "      <td>0.056784</td>\n",
       "      <td>0.074529</td>\n",
       "      <td>0.010140</td>\n",
       "      <td>0.070980</td>\n",
       "    </tr>\n",
       "    <tr>\n",
       "      <th>2</th>\n",
       "      <td>0.005426</td>\n",
       "      <td>0.007122</td>\n",
       "      <td>0.006783</td>\n",
       "      <td>0.047480</td>\n",
       "    </tr>\n",
       "    <tr>\n",
       "      <th>3</th>\n",
       "      <td>0.007377</td>\n",
       "      <td>0.009683</td>\n",
       "      <td>0.009182</td>\n",
       "      <td>0.064275</td>\n",
       "    </tr>\n",
       "    <tr>\n",
       "      <th>4</th>\n",
       "      <td>0.007377</td>\n",
       "      <td>0.009683</td>\n",
       "      <td>0.009182</td>\n",
       "      <td>0.064275</td>\n",
       "    </tr>\n",
       "    <tr>\n",
       "      <th>...</th>\n",
       "      <td>...</td>\n",
       "      <td>...</td>\n",
       "      <td>...</td>\n",
       "      <td>...</td>\n",
       "    </tr>\n",
       "    <tr>\n",
       "      <th>7986</th>\n",
       "      <td>0.097464</td>\n",
       "      <td>0.127921</td>\n",
       "      <td>0.060133</td>\n",
       "      <td>0.420931</td>\n",
       "    </tr>\n",
       "    <tr>\n",
       "      <th>7987</th>\n",
       "      <td>0.094158</td>\n",
       "      <td>0.123583</td>\n",
       "      <td>0.060065</td>\n",
       "      <td>0.420456</td>\n",
       "    </tr>\n",
       "    <tr>\n",
       "      <th>7988</th>\n",
       "      <td>0.099463</td>\n",
       "      <td>0.130546</td>\n",
       "      <td>0.064789</td>\n",
       "      <td>0.453520</td>\n",
       "    </tr>\n",
       "    <tr>\n",
       "      <th>7989</th>\n",
       "      <td>0.119989</td>\n",
       "      <td>0.157485</td>\n",
       "      <td>0.064761</td>\n",
       "      <td>0.453326</td>\n",
       "    </tr>\n",
       "    <tr>\n",
       "      <th>7990</th>\n",
       "      <td>0.128563</td>\n",
       "      <td>0.168739</td>\n",
       "      <td>0.069389</td>\n",
       "      <td>0.485720</td>\n",
       "    </tr>\n",
       "  </tbody>\n",
       "</table>\n",
       "<p>7991 rows × 4 columns</p>\n",
       "</div>"
      ],
      "text/plain": [
       "      min_price_er  max_price_er  min_price_global  max_price_global\n",
       "0         0.053924      0.070776          0.013335          0.093348\n",
       "1         0.056784      0.074529          0.010140          0.070980\n",
       "2         0.005426      0.007122          0.006783          0.047480\n",
       "3         0.007377      0.009683          0.009182          0.064275\n",
       "4         0.007377      0.009683          0.009182          0.064275\n",
       "...            ...           ...               ...               ...\n",
       "7986      0.097464      0.127921          0.060133          0.420931\n",
       "7987      0.094158      0.123583          0.060065          0.420456\n",
       "7988      0.099463      0.130546          0.064789          0.453520\n",
       "7989      0.119989      0.157485          0.064761          0.453326\n",
       "7990      0.128563      0.168739          0.069389          0.485720\n",
       "\n",
       "[7991 rows x 4 columns]"
      ]
     },
     "execution_count": 37,
     "metadata": {},
     "output_type": "execute_result"
    }
   ],
   "source": [
    "elas[['min_price_er', 'max_price_er', 'min_price_global', 'max_price_global']]"
   ]
  },
  {
   "cell_type": "code",
   "execution_count": 38,
   "id": "73320e29-9b1c-4e25-a387-ba5818bd45ce",
   "metadata": {},
   "outputs": [],
   "source": [
    "elas['min_price'] = elas[[\"min_price_er\", \"min_price_global\"]].max(axis=1)"
   ]
  },
  {
   "cell_type": "code",
   "execution_count": 39,
   "id": "41942f87-d13a-4c2e-8577-9bf1cb2e8372",
   "metadata": {},
   "outputs": [],
   "source": [
    "low_demand = elas['dg_total_demand'] <= 5000.0\n",
    "\n",
    "elas['max_price'] = \\\n",
    "    low_demand*elas[[\"spot_core_price\", \"min_price\"]].max(axis=1) + \\\n",
    "    ~low_demand*elas[[\"max_price_er\", \"max_price_global\"]].min(axis=1)\n",
    "\n",
    "small_diff = (elas['max_price'] - elas['min_price']).abs() <= 0.00001\n",
    "elas['max_price'] = small_diff*elas['min_price'] + ~small_diff*elas['max_price']"
   ]
  },
  {
   "cell_type": "code",
   "execution_count": 40,
   "id": "51cb19c0-b383-4818-bb3e-936980a3c509",
   "metadata": {},
   "outputs": [
    {
     "data": {
      "text/html": [
       "<div>\n",
       "<style scoped>\n",
       "    .dataframe tbody tr th:only-of-type {\n",
       "        vertical-align: middle;\n",
       "    }\n",
       "\n",
       "    .dataframe tbody tr th {\n",
       "        vertical-align: top;\n",
       "    }\n",
       "\n",
       "    .dataframe thead th {\n",
       "        text-align: right;\n",
       "    }\n",
       "</style>\n",
       "<table border=\"1\" class=\"dataframe\">\n",
       "  <thead>\n",
       "    <tr style=\"text-align: right;\">\n",
       "      <th></th>\n",
       "      <th>min_price</th>\n",
       "      <th>max_price</th>\n",
       "    </tr>\n",
       "  </thead>\n",
       "  <tbody>\n",
       "    <tr>\n",
       "      <th>0</th>\n",
       "      <td>0.053924</td>\n",
       "      <td>0.067405</td>\n",
       "    </tr>\n",
       "    <tr>\n",
       "      <th>1</th>\n",
       "      <td>0.056784</td>\n",
       "      <td>0.070980</td>\n",
       "    </tr>\n",
       "    <tr>\n",
       "      <th>2</th>\n",
       "      <td>0.006783</td>\n",
       "      <td>0.006783</td>\n",
       "    </tr>\n",
       "    <tr>\n",
       "      <th>3</th>\n",
       "      <td>0.009182</td>\n",
       "      <td>0.009221</td>\n",
       "    </tr>\n",
       "    <tr>\n",
       "      <th>4</th>\n",
       "      <td>0.009182</td>\n",
       "      <td>0.009221</td>\n",
       "    </tr>\n",
       "    <tr>\n",
       "      <th>...</th>\n",
       "      <td>...</td>\n",
       "      <td>...</td>\n",
       "    </tr>\n",
       "    <tr>\n",
       "      <th>7986</th>\n",
       "      <td>0.097464</td>\n",
       "      <td>0.121830</td>\n",
       "    </tr>\n",
       "    <tr>\n",
       "      <th>7987</th>\n",
       "      <td>0.094158</td>\n",
       "      <td>0.117698</td>\n",
       "    </tr>\n",
       "    <tr>\n",
       "      <th>7988</th>\n",
       "      <td>0.099463</td>\n",
       "      <td>0.124329</td>\n",
       "    </tr>\n",
       "    <tr>\n",
       "      <th>7989</th>\n",
       "      <td>0.119989</td>\n",
       "      <td>0.149986</td>\n",
       "    </tr>\n",
       "    <tr>\n",
       "      <th>7990</th>\n",
       "      <td>0.128563</td>\n",
       "      <td>0.160704</td>\n",
       "    </tr>\n",
       "  </tbody>\n",
       "</table>\n",
       "<p>7991 rows × 2 columns</p>\n",
       "</div>"
      ],
      "text/plain": [
       "      min_price  max_price\n",
       "0      0.053924   0.067405\n",
       "1      0.056784   0.070980\n",
       "2      0.006783   0.006783\n",
       "3      0.009182   0.009221\n",
       "4      0.009182   0.009221\n",
       "...         ...        ...\n",
       "7986   0.097464   0.121830\n",
       "7987   0.094158   0.117698\n",
       "7988   0.099463   0.124329\n",
       "7989   0.119989   0.149986\n",
       "7990   0.128563   0.160704\n",
       "\n",
       "[7991 rows x 2 columns]"
      ]
     },
     "execution_count": 40,
     "metadata": {},
     "output_type": "execute_result"
    }
   ],
   "source": [
    "elas[['min_price', 'max_price']]"
   ]
  },
  {
   "cell_type": "code",
   "execution_count": 41,
   "id": "2ef47603-1f90-4ea7-a01e-806dd55ac01d",
   "metadata": {},
   "outputs": [],
   "source": [
    "\n",
    "elas['max_feasible_family_discount'] = \\\n",
    "    1.0 - ( elas['min_price'] / elas['od_core_price'] )\n",
    "\n",
    "elas['min_feasible_family_discount'] = \\\n",
    "    1.0 - ( elas['max_price'] / elas['od_core_price'] )\n",
    "\n",
    "elas['family_discount'] = elas['current_avg_discount']\n",
    "\n",
    "dg_agg_1 =\\\n",
    "    elas\\\n",
    "        [['Location', 'dg', 'pre_process_family', 'avg_daily_demand_removed_nulls']]\\\n",
    "        .groupby(by=['Location', 'dg', 'pre_process_family'], as_index=False)\\\n",
    "        .sum()\n",
    "\n",
    "dg_agg_2 =\\\n",
    "    dg_agg_1\\\n",
    "        [['Location', 'dg', 'avg_daily_demand_removed_nulls']]\\\n",
    "        .groupby(by=['Location', 'dg'], as_index=False)\\\n",
    "        .sum()\\\n",
    "        .rename(columns = {\"avg_daily_demand_removed_nulls\" : \"total_daily_demand\"})\n",
    "\n",
    "elas = pd.merge(elas, dg_agg_2, how = 'inner', on = ['Location', 'dg'])\n",
    "\n",
    "elas['family_prop_of_total_dg_demand'] = \\\n",
    "    elas['avg_daily_demand_removed_nulls'] / elas['total_daily_demand']\n",
    "\n",
    "elas['family_prop_of_total_dg_demand'] = \\\n",
    "    elas['family_prop_of_total_dg_demand'].fillna(0.0)"
   ]
  },
  {
   "cell_type": "code",
   "execution_count": 42,
   "id": "0f37cca1-f8da-4c9a-996b-acb86e504086",
   "metadata": {},
   "outputs": [],
   "source": [
    "\n",
    "current_discount_group_bounds =\\\n",
    "    elas[['Location', 'dg', 'OS', 'int_rounded_discount', 'min_feasible_family_discount', 'max_feasible_family_discount']]\\\n",
    "        .groupby(['Location', 'dg', 'OS', 'int_rounded_discount'], as_index=False)\\\n",
    "        .agg(\n",
    "            {\n",
    "                'max_feasible_family_discount' : 'min',\n",
    "                'min_feasible_family_discount' : 'max',\n",
    "            }\n",
    "        )\n",
    "\n",
    "elas =\\\n",
    "    elas\\\n",
    "    .rename(\n",
    "        columns={\n",
    "            'max_feasible_family_discount' : 'max_feasible_family_discount_pre_limit',\n",
    "            'min_feasible_family_discount' : 'min_feasible_family_discount_pre_limit',\n",
    "        }\n",
    "    )\\\n",
    "    .merge(\n",
    "        current_discount_group_bounds,\n",
    "        how='inner',\n",
    "        on = ['Location', 'dg', 'OS', 'int_rounded_discount']\n",
    "    )"
   ]
  },
  {
   "cell_type": "code",
   "execution_count": 43,
   "id": "4a6f34f2-0457-4df3-8771-58d4df41afdb",
   "metadata": {},
   "outputs": [],
   "source": [
    "wm = lambda vec: np.average(vec, weights= (elas.loc[vec.index, \"family_prop_of_total_dg_demand\"] + 0.00001))\n",
    "\n",
    "dg_elas = \\\n",
    "    elas\\\n",
    "    [['Location', 'OS', 'dg', 'max_feasible_family_discount', 'min_feasible_family_discount', 'family_discount']]\\\n",
    "    .groupby(['Location', 'OS', 'dg'], as_index=False)\\\n",
    "    .agg(\n",
    "        {\n",
    "            'max_feasible_family_discount' : 'min',\n",
    "            'min_feasible_family_discount' : 'max',\n",
    "            'family_discount' : wm\n",
    "        }\n",
    "    )\\\n",
    "    .rename(\n",
    "        columns={\n",
    "            'max_feasible_family_discount' : 'max_feasible_dg_discount',\n",
    "            'min_feasible_family_discount' : 'min_feasible_dg_discount',\n",
    "            'family_discount' : 'dg_discount'\n",
    "        }\n",
    "    )\n",
    "\n",
    "elas = \\\n",
    "    pd.merge(\\\n",
    "        elas, \n",
    "        dg_elas, \n",
    "        how='inner',\n",
    "        on = ['Location', 'OS', 'dg']\\\n",
    "    )"
   ]
  },
  {
   "cell_type": "code",
   "execution_count": 44,
   "id": "833303b1-86c9-4b71-9b36-4c35d04bdea2",
   "metadata": {},
   "outputs": [],
   "source": [
    "\n",
    "elas['dg_satisfiable'] = \\\n",
    "    elas['min_feasible_dg_discount'] < elas['max_feasible_dg_discount']\n",
    "\n",
    "desired_discount_below_bounds = \\\n",
    "    ( elas['min_feasible_family_discount'] > elas['dg_discount'] )\n",
    "\n",
    "desired_discount_above_bounds = \\\n",
    "    ( elas['max_feasible_family_discount'] < elas['dg_discount'] )\n",
    "\n",
    "desired_discount_oob =  \\\n",
    "    ( ( desired_discount_above_bounds ) | ( desired_discount_below_bounds ) )\n",
    "\n",
    "elas['fixed_discount'] = \\\n",
    "    desired_discount_oob*0.0 + ~desired_discount_oob*elas['dg_discount']\n",
    "\n",
    "elas['fixed_discount'] = \\\n",
    "    desired_discount_below_bounds*elas['min_feasible_family_discount'] + \\\n",
    "    desired_discount_above_bounds*elas['max_feasible_family_discount']\n",
    "\n",
    "elas['min_price'] = \\\n",
    "    elas['dg_satisfiable']*elas['min_price'] + \\\n",
    "    ~elas['dg_satisfiable']*(( ( 1.0 - elas['fixed_discount'] ) * elas['od_core_price'] ))\n",
    "\n",
    "elas['max_price'] = \\\n",
    "    elas['dg_satisfiable']*elas['max_price'] + \\\n",
    "    ~elas['dg_satisfiable']*( ( 1.0 - elas['fixed_discount'] ) * elas['od_core_price'] )\n"
   ]
  },
  {
   "cell_type": "code",
   "execution_count": 45,
   "id": "56575972-0184-445d-a4c5-258148724bd1",
   "metadata": {},
   "outputs": [],
   "source": [
    "compete_fields = ['pre_process_family', 'OS']\n",
    "\n",
    "_, compete_group_ids = np.unique(\n",
    "    elas[compete_fields].apply(lambda x : '|'.join(x), axis=1).to_numpy(),\n",
    "    return_inverse=True\n",
    ")\n",
    "\n",
    "elas['group'] = compete_group_ids"
   ]
  },
  {
   "cell_type": "code",
   "execution_count": 46,
   "id": "a1e78766-c681-440e-90e3-7920fda1a702",
   "metadata": {},
   "outputs": [
    {
     "data": {
      "text/plain": [
       "0         4\n",
       "1         5\n",
       "2         2\n",
       "3        32\n",
       "4        36\n",
       "       ... \n",
       "7986    198\n",
       "7987    199\n",
       "7988    209\n",
       "7989    200\n",
       "7990    210\n",
       "Name: group, Length: 7991, dtype: int64"
      ]
     },
     "execution_count": 46,
     "metadata": {},
     "output_type": "execute_result"
    }
   ],
   "source": [
    "elas['group']"
   ]
  },
  {
   "cell_type": "code",
   "execution_count": 47,
   "id": "e812cb9e-00be-4e0d-bfbe-e997ce0f5b81",
   "metadata": {},
   "outputs": [],
   "source": [
    "elas['alpha_original'] = elas['alpha'].copy()\n",
    "elas['beta_original'] = elas['beta'].copy()\n",
    "elas['k_original'] = elas['k'].copy()\n",
    "elas['weight_original'] = elas['weight'].copy()\n",
    "\n",
    "elas['alpha'] = elas['opt']*elas[\"alpha\"] + ~elas['opt']*0.0\n",
    "elas['beta'] = elas['opt']*elas[\"beta\"] + ~elas['opt']*0.0\n",
    "elas['weight'] = elas['opt']*elas[\"weight\"] + ~elas['opt']*0.0\n",
    "elas['k'] = elas['opt']*elas[\"k\"] + ~elas['opt']*0.1"
   ]
  },
  {
   "cell_type": "code",
   "execution_count": 48,
   "id": "5c922c54-5f08-494c-a588-d3239815c665",
   "metadata": {},
   "outputs": [],
   "source": [
    "def segment_sum(arr, segments):\n",
    "    m = {}\n",
    "    for i in range(len(segments)):\n",
    "        if segments[i] not in m:\n",
    "            m[segments[i]] = 0.0\n",
    "            \n",
    "        m[segments[i]] += arr[i]\n",
    "\n",
    "    return np.array([m[s] for s in segments])\n",
    "\n",
    "def demand_function(\n",
    "    p: np.ndarray,\n",
    "    k: np.ndarray,\n",
    "    alpha: np.ndarray,\n",
    "    beta: np.ndarray,\n",
    "    weight: np.ndarray,\n",
    "    group: np.ndarray,\n",
    "    n_groups: int,\n",
    ") -> np.ndarray:\n",
    "    \"\"\"\n",
    "    @param p: price (vector)\n",
    "    @param k: demand scaler (vector)\n",
    "    @param alpha: alpha parameter (float or vector)\n",
    "    @param beta: beta parameter (float or vector)\n",
    "    @param weight: \"weight\" (float or vector)\n",
    "    \"\"\"\n",
    "    return \\\n",
    "        (np.exp(segment_sum(np.log(p) * (alpha * weight), group))\n",
    "        * k\n",
    "        * np.power(p, beta - alpha * weight)\n",
    "    )"
   ]
  },
  {
   "cell_type": "code",
   "execution_count": 49,
   "id": "ec45b5d2-8012-4bbc-a003-10b5d649f0e4",
   "metadata": {},
   "outputs": [
    {
     "name": "stdout",
     "output_type": "stream",
     "text": [
      "Computing Min/Max Demand\n",
      "Computed Min/Max Demand\n"
     ]
    }
   ],
   "source": [
    "results = []\n",
    "print(\"Computing Min/Max Demand\")\n",
    "\n",
    "for group in list(elas['group'].unique()):\n",
    "    restr = elas[elas['group'] == group].copy().reset_index(drop=True)\n",
    "\n",
    "    tasks = list(\n",
    "        restr[['pre_process_family', 'OS', 'Location']].drop_duplicates().apply(\n",
    "            lambda x : {\n",
    "                'pre_process_family' : x['pre_process_family'],\n",
    "                'OS' : x['OS'],\n",
    "                'Location' : x['Location']\n",
    "            },\n",
    "            axis=1\n",
    "        )\n",
    "    )\n",
    "\n",
    "    for task in tasks:\n",
    "        sub_restr = restr.copy()\n",
    "        mask =  ((sub_restr['pre_process_family'] == task['pre_process_family']) & (sub_restr['Location'] == task['Location']) & (sub_restr['OS'] == task['OS']))\n",
    "\n",
    "        sub_restr['p_min_demand'] = \\\n",
    "            mask*sub_restr['max_price'] + ~mask*sub_restr['min_price']\n",
    "\n",
    "        sub_restr['p_max_demand'] = \\\n",
    "            mask*sub_restr['min_price'] + ~mask*sub_restr['max_price']\n",
    "\n",
    "        sub_restr['group'] = 0\n",
    "\n",
    "        sub_restr['min_demand'] = demand_function(\n",
    "            p=sub_restr['p_min_demand'].to_numpy(),\n",
    "            k=sub_restr['k'].to_numpy(),\n",
    "            alpha=sub_restr['alpha'].to_numpy(),\n",
    "            beta=sub_restr['beta'].to_numpy(),\n",
    "            weight=sub_restr['weight'].to_numpy(),\n",
    "            group=sub_restr['group'].to_numpy(),\n",
    "            n_groups=1\n",
    "        )\n",
    "\n",
    "        sub_restr['max_demand'] = demand_function(\n",
    "            p=sub_restr['p_max_demand'].to_numpy(),\n",
    "            k=sub_restr['k'].to_numpy(),\n",
    "            alpha=sub_restr['alpha'].to_numpy(),\n",
    "            beta=sub_restr['beta'].to_numpy(),\n",
    "            weight=sub_restr['weight'].to_numpy(),\n",
    "            group=sub_restr['group'].to_numpy(),\n",
    "            n_groups=1\n",
    "        )\n",
    "\n",
    "        results.append(\n",
    "            {\n",
    "                'pre_process_family' : task['pre_process_family'],\n",
    "                'Location' : task['Location'],\n",
    "                'OS' : task['OS'],\n",
    "                'min_demand' : sub_restr[mask]['min_demand'].iloc[0],\n",
    "                'max_demand' : sub_restr[mask]['max_demand'].iloc[0] \n",
    "            }\n",
    "        )\n",
    "        \n",
    "print(\"Computed Min/Max Demand\")\n",
    "\n",
    "append_df = pd.DataFrame(data=results)\n",
    "elas = \\\n",
    "    pd.merge(\\\n",
    "        elas,\n",
    "        append_df,\n",
    "        how='inner',\n",
    "        on=['pre_process_family', 'Location', 'OS']\n",
    "    )\n",
    "\n",
    "elas['model_view_demand_pre_override'] = demand_function(\n",
    "    p=elas['spot_core_price_pre_override'].to_numpy(),\n",
    "    k=elas['k'].to_numpy(),\n",
    "    alpha=elas['alpha'].to_numpy(),\n",
    "    beta=elas['beta'].to_numpy(),\n",
    "    weight=elas['weight'].to_numpy(),\n",
    "    group=elas['group'].to_numpy(),\n",
    "    n_groups=elas['group'].max() + 1\n",
    ")\n",
    "\n",
    "elas['model_view_demand_post_override'] = demand_function(\n",
    "    p=elas['spot_core_price'].to_numpy(),\n",
    "    k=elas['k'].to_numpy(),\n",
    "    alpha=elas['alpha'].to_numpy(),\n",
    "    beta=elas['beta'].to_numpy(),\n",
    "    weight=elas['weight'].to_numpy(),\n",
    "    group=elas['group'].to_numpy(),\n",
    "    n_groups=elas['group'].max() + 1\n",
    ")\n"
   ]
  },
  {
   "cell_type": "code",
   "execution_count": 50,
   "id": "22cc6091-b7b6-404f-a938-ca674353486b",
   "metadata": {},
   "outputs": [],
   "source": [
    "demand = demand_function(\n",
    "    p=elas['spot_core_price_pre_override'].to_numpy(),\n",
    "    k=elas['k_original'].to_numpy(),\n",
    "    alpha=elas['alpha_original'].to_numpy(),\n",
    "    beta=elas['beta_original'].to_numpy(),\n",
    "    weight=elas['weight_original'].to_numpy(),\n",
    "    group=elas['group'].to_numpy(),\n",
    "    n_groups=elas['group'].max() + 1\n",
    ")"
   ]
  },
  {
   "cell_type": "code",
   "execution_count": 51,
   "id": "6db5ad9f-4567-4262-9384-d4e41a81d708",
   "metadata": {},
   "outputs": [],
   "source": [
    "a = list(demand)"
   ]
  },
  {
   "cell_type": "code",
   "execution_count": 52,
   "id": "94a92517-9351-4b0c-a487-b04b1c5cf258",
   "metadata": {},
   "outputs": [],
   "source": [
    "b = elas['avg_daily_demand_removed_nulls'].to_list()\n",
    "d = \\\n",
    "    elas[\"k_original\"]*elas[\"spot_core_price_pre_override\"].pow(elas['beta_original'])*elas[\"prod_factors\"]/elas[\"factor\"]\n",
    "d = d.to_list()"
   ]
  },
  {
   "cell_type": "code",
   "execution_count": 53,
   "id": "f5c673d4-ad13-4067-854e-2e6e467cc19b",
   "metadata": {},
   "outputs": [
    {
     "name": "stdout",
     "output_type": "stream",
     "text": [
      "[(0.0, 0.0, 0.0), (0.0, 0.0, 0.0), (0.0, 0.0, 0.0), (0.0, 0.0, 0.0), (0.0, 0.0, 0.0), (96.25937026666672, 96.25937026666666, 96.25937026666668), (0.0, 0.0, 0.0), (0.0, 0.0, 0.0), (0.0, 0.0, 0.0), (0.0, 0.0, 0.0), (0.0, 0.0, 0.0), (0.0, 0.0, 0.0), (0.0, 0.0, 0.0), (0.0, 0.0, 0.0), (0.0, 0.0, 0.0), (0.0, 0.0, 0.0), (192.50318466666684, 192.50318466666664, 192.50318466666667), (0.0, 0.0, 0.0), (0.0, 0.0, 0.0), (0.0, 0.0, 0.0), (48.126241738461545, 48.12624173846154, 48.12624173846154), (0.0, 0.0, 0.0), (0.0, 0.0, 0.0), (0.0, 0.0, 0.0), (0.0, 0.0, 0.0), (0.0, 0.0, 0.0), (0.0, 0.0, 0.0), (0.0, 0.0, 0.0), (0.0, 0.0, 0.0), (0.0, 0.0, 0.0), (0.0, 0.0, 0.0), (0.0, 0.0, 0.0), (0.0, 0.0, 0.0), (0.0, 0.0, 0.0), (0.0, 0.0, 0.0), (0.0, 0.0, 0.0), (0.0, 0.0, 0.0), (0.0, 0.0, 0.0), (0.0, 0.0, 0.0), (0.0, 0.0, 0.0), (0.0, 0.0, 0.0), (0.0, 0.0, 0.0), (0.0, 0.0, 0.0), (0.0, 0.0, 0.0), (0.0, 0.0, 0.0), (0.0, 0.0, 0.0), (0.0, 0.0, 0.0), (0.0, 0.0, 0.0), (0.0, 0.0, 0.0), (0.0, 0.0, 0.0), (0.0, 0.0, 0.0), (0.0, 0.0, 0.0), (0.0, 0.0, 0.0), (0.0, 0.0, 0.0), (0.0, 0.0, 0.0), (0.0, 0.0, 0.0), (0.0, 0.0, 0.0), (0.0, 0.0, 0.0), (0.0, 0.0, 0.0), (0.0, 0.0, 0.0), (0.0, 0.0, 0.0), (0.0, 0.0, 0.0), (0.0, 0.0, 0.0), (0.0, 0.0, 0.0), (0.0, 0.0, 0.0), (0.0, 0.0, 0.0), (0.0, 0.0, 0.0), (0.0, 0.0, 0.0), (0.0, 0.0, 0.0), (0.0, 0.0, 0.0), (0.0, 0.0, 0.0), (0.0, 0.0, 0.0), (0.0, 0.0, 0.0), (0.0, 0.0, 0.0), (0.0, 0.0, 0.0), (0.0, 0.0, 0.0), (0.0, 0.0, 0.0), (0.0, 0.0, 0.0), (0.0, 0.0, 0.0), (0.0, 0.0, 0.0), (0.0, 0.0, 0.0), (0.0, 0.0, 0.0), (0.0, 0.0, 0.0), (0.0, 0.0, 0.0), (0.0, 0.0, 0.0), (0.0, 0.0, 0.0), (0.0, 0.0, 0.0), (0.0, 0.0, 0.0), (0.0, 0.0, 0.0), (0.0, 0.0, 0.0), (0.0, 0.0, 0.0), (0.0, 0.0, 0.0), (0.0, 0.0, 0.0), (0.0, 0.0, 0.0), (0.0, 0.0, 0.0), (0.0, 0.0, 0.0), (48.12587543809525, 48.125875438095235, 48.125875438095235), (0.0, 0.0, 0.0), (0.0, 0.0, 0.0), (0.0, 0.0, 0.0), (0.0, 0.0, 0.0), (0.0, 0.0, 0.0), (0.0, 0.0, 0.0), (0.0, 0.0, 0.0), (0.0, 0.0, 0.0), (0.0, 0.0, 0.0), (0.0, 0.0, 0.0), (0.0, 0.0, 0.0), (0.0, 0.0, 0.0), (0.0, 0.0, 0.0), (0.0, 0.0, 0.0), (0.0, 0.0, 0.0), (0.0, 0.0, 0.0), (0.0, 0.0, 0.0), (0.0, 0.0, 0.0), (0.0, 0.0, 0.0), (0.0, 0.0, 0.0), (0.0, 0.0, 0.0), (0.0, 0.0, 0.0), (0.0, 0.0, 0.0), (0.0, 0.0, 0.0), (0.0, 0.0, 0.0), (0.0, 0.0, 0.0), (0.0, 0.0, 0.0), (0.0, 0.0, 0.0), (0.0, 0.0, 0.0), (0.0, 0.0, 0.0), (0.0, 0.0, 0.0), (0.0, 0.0, 0.0), (0.0, 0.0, 0.0), (0.0, 0.0, 0.0), (0.0, 0.0, 0.0), (7873.021191075561, 7873.021191075555, 7873.021191075556), (7149.4208479128965, 7149.420847912892, 7149.420847912893), (0.0, 0.0, 0.0), (5849.301903904658, 5849.30190390464, 5849.30190390464), (17301.681776447767, 17301.68177644782, 17301.68177644782), (48.440216157575776, 48.440216157575755, 48.44021615757575), (0.0, 0.0, 0.0), (8336.035791733337, 8336.03579173333, 8336.035791733328), (1534.072340971426, 1534.072340971429, 1534.072340971429), (0.0, 0.0, 0.0), (174.27981930952342, 174.27981930952382, 174.27981930952382), (0.4266752000000002, 0.4266752, 0.4266751999999999), (1.3333600000000023, 1.3333599999999999, 1.3333599999999999), (0.0, 0.0, 0.0), (13028.26003904405, 13028.260039044058, 13028.260039044058), (0.0, 0.0, 0.0), (388.22233888791163, 388.22233888791214, 388.2223388879122), (0.0, 0.0, 0.0), (1961.135479107937, 1961.1354791079366, 1961.1354791079361), (66.92785271216933, 66.92785271216933, 66.92785271216931), (0.0, 0.0, 0.0), (14.32223, 14.32223, 14.32223), (29.22469103333331, 29.224691033333333, 29.224691033333333), (0.0, 0.0, 0.0), (0.0, 0.0, 0.0), (245.17335252306862, 245.17335252306881, 245.17335252306884), (6.956667133333326, 6.956667133333334, 6.956667133333333), (0.0, 0.0, 0.0), (0.0, 0.0, 0.0), (207.50461288571415, 207.5046128857143, 207.50461288571432), (0.0, 0.0, 0.0), (0.0, 0.0, 0.0), (0.0, 0.0, 0.0), (0.0, 0.0, 0.0), (0.0, 0.0, 0.0), (0.0, 0.0, 0.0), (0.0, 0.0, 0.0), (0.0, 0.0, 0.0), (6477.923515561908, 6477.923515561907, 6477.923515561906), (5551.275536499998, 5551.2755365, 5551.2755365), (467.2778022761898, 467.2778022761904, 467.2778022761904), (40.33636226666663, 40.33636226666667, 40.33636226666667), (0.0, 0.0, 0.0), (0.0, 0.0, 0.0), (2786.6085249498424, 2786.608524949842, 2786.6085249498424), (472.0155286564921, 472.0155286564916, 472.0155286564916), (219.37238935238085, 219.37238935238094, 219.3723893523809), (284.87396774885093, 284.87396774885116, 284.87396774885116), (0.0, 0.0, 0.0), (0.0, 0.0, 0.0), (246.4852098190474, 246.4852098190476, 246.48520981904758), (368.4478186666667, 368.44781866666665, 368.4478186666666), (0.0, 0.0, 0.0), (0.0, 0.0, 0.0), (0.0, 0.0, 0.0), (165.80904400370358, 165.8090440037037, 165.8090440037037), (40.09913029999995, 40.09913029999999, 40.09913029999999), (1.6000000000000012, 1.6, 1.6), (0.0, 0.0, 0.0), (0.0, 0.0, 0.0), (0.0, 0.0, 0.0), (0.0, 0.0, 0.0), (0.0, 0.0, 0.0), (0.0, 0.0, 0.0), (0.0, 0.0, 0.0), (0.0, 0.0, 0.0), (0.0, 0.0, 0.0), (0.0, 0.0, 0.0), (0.0, 0.0, 0.0), (0.0, 0.0, 0.0), (0.0, 0.0, 0.0), (0.0, 0.0, 0.0), (38.051989357142894, 38.05198935714285, 38.05198935714285), (0.0, 0.0, 0.0), (0.0, 0.0, 0.0), (0.0, 0.0, 0.0), (3764.5957586755317, 3764.5957586755367, 3764.595758675537), (0.0, 0.0, 0.0), (172.5538625999999, 172.55386259999997, 172.55386259999997), (503.49159078254064, 503.49159078253973, 503.49159078253973), (3.9677797999999953, 3.9677798000000006, 3.967779800000001), (0.0, 0.0, 0.0), (835.5697637333318, 835.5697637333337, 835.5697637333337), (0.0, 0.0, 0.0), (0.0, 0.0, 0.0), (0.0, 0.0, 0.0), (0.0, 0.0, 0.0), (0.0, 0.0, 0.0), (0.0, 0.0, 0.0), (0.0, 0.0, 0.0), (0.0, 0.0, 0.0), (0.0, 0.0, 0.0), (3.5333359999999967, 3.533336, 3.5333359999999994), (81.99175100952385, 81.99175100952381, 81.99175100952382), (148.79440632698407, 148.79440632698413, 148.79440632698413), (0.0, 0.0, 0.0), (97.78460134242427, 97.78460134242427, 97.78460134242428), (54.130003933333285, 54.13000393333333, 54.13000393333331), (96.25174820952381, 96.25174820952381, 96.25174820952383), (0.0, 0.0, 0.0), (0.0, 0.0, 0.0), (0.0, 0.0, 0.0), (0.0, 0.0, 0.0), (0.0, 0.0, 0.0), (0.0, 0.0, 0.0), (0.0, 0.0, 0.0), (329.20463088571444, 329.2046308857144, 329.2046308857144), (0.0, 0.0, 0.0), (1869.581913103809, 1869.58191310381, 1869.5819131038102), (239.66234519999998, 239.66234519999998, 239.6623452), (19.073714800000037, 19.0737148, 19.073714800000005), (0.5333440000000003, 0.5333439999999997, 0.5333439999999998), (105.20764013333327, 105.20764013333334, 105.20764013333333), (474.6764039714285, 474.67640397142844, 474.67640397142844), (577.0983202548107, 577.0983202548101, 577.0983202548101), (134.67497705454545, 134.67497705454545, 134.67497705454545), (0.07444593333333331, 0.07444593333333326, 0.07444593333333327), (0.0, 0.0, 0.0), (160.0143720952381, 160.0143720952381, 160.0143720952381), (0.0, 0.0, 0.0), (193.60027200000002, 193.60027200000002, 193.60027200000002), (0.0, 0.0, 0.0), (0.0, 0.0, 0.0), (0.0, 0.0, 0.0), (1.0044645333333342, 1.0044645333333333, 1.0044645333333335), (0.0, 0.0, 0.0), (0.0, 0.0, 0.0), (0.0, 0.0, 0.0), (0.0, 0.0, 0.0), (0.0, 0.0, 0.0), (0.0, 0.0, 0.0), (0.0, 0.0, 0.0), (0.0, 0.0, 0.0), (0.0, 0.0, 0.0), (0.0, 0.0, 0.0), (0.0, 0.0, 0.0), (0.0, 0.0, 0.0), (0.0, 0.0, 0.0), (0.0, 0.0, 0.0), (0.0, 0.0, 0.0), (0.0, 0.0, 0.0), (0.0, 0.0, 0.0), (0.0, 0.0, 0.0), (0.0, 0.0, 0.0), (0.0, 0.0, 0.0), (0.0, 0.0, 0.0), (0.0, 0.0, 0.0), (0.0, 0.0, 0.0), (0.0, 0.0, 0.0), (0.0, 0.0, 0.0), (0.0, 0.0, 0.0), (0.0, 0.0, 0.0), (0.0, 0.0, 0.0), (0.0, 0.0, 0.0), (0.0, 0.0, 0.0), (2.7600152, 2.760015199999999, 2.7600151999999993), (0.0, 0.0, 0.0), (0.0, 0.0, 0.0), (0.0, 0.0, 0.0), (0.0, 0.0, 0.0), (227.58206833787878, 227.58206833787878, 227.58206833787878), (0.13333600000000012, 0.13333599999999998, 0.13333599999999998), (0.0, 0.0, 0.0), (14779.948551195868, 14779.948551195846, 14779.948551195846), (1269.4705297133303, 1269.4705297133332, 1269.4705297133332), (53.3971966083333, 53.397196608333324, 53.397196608333324), (0.0, 0.0, 0.0), (9393.156176000019, 9393.15617600001, 9393.156176000008), (625.592564133333, 625.5925641333334, 625.5925641333333), (0.0, 0.0, 0.0), (194.97455138910217, 194.97455138910257, 194.97455138910254), (693.9106032642865, 693.9106032642857, 693.9106032642857), (3008.289862933334, 3008.2898629333336, 3008.2898629333336), (25.375559066666632, 25.375559066666664, 25.375559066666664), (51867.725407196776, 51867.72540719677, 51867.72540719677), (48.11786492857145, 48.11786492857143, 48.11786492857143), (30.19562613333331, 30.195626133333334, 30.195626133333327), (26.778388233333345, 26.778388233333338, 26.778388233333338), (1527.670506282589, 1527.6705062825883, 1527.6705062825883), (157.27779799999996, 157.27779800000002, 157.27779800000002), (0.0, 0.0, 0.0), (50.785561600000015, 50.78556160000001, 50.78556160000001), (336.5797074666667, 336.5797074666667, 336.5797074666668), (0.0, 0.0, 0.0), (0.0, 0.0, 0.0), (1739.0081389150755, 1739.0081389150766, 1739.0081389150769), (8302.12933519999, 8302.1293352, 8302.129335200001), (0.0, 0.0, 0.0), (0.7122231333333324, 0.7122231333333333, 0.7122231333333333), (118695.89257963438, 118695.89257963453, 118695.89257963456), (0.0, 0.0, 0.0), (0.0, 0.0, 0.0), (24.013674933333302, 24.013674933333323, 24.013674933333323), (0.0, 0.0, 0.0), (0.0, 0.0, 0.0), (0.0, 0.0, 0.0), (3.448896533333336, 3.4488965333333335, 3.4488965333333335), (0.0, 0.0, 0.0), (54001.58845176385, 54001.588451763855, 54001.588451763855), (8559.549883359276, 8559.549883359283, 8559.549883359283), (80.59378519999981, 80.5937852, 80.5937852), (842.4873210353836, 842.487321035385, 842.487321035385), (0.0, 0.0, 0.0), (0.0, 0.0, 0.0), (3008.320831923812, 3008.3208319238092, 3008.320831923809), (223.88632335555576, 223.8863233555556, 223.8863233555556), (544.797816992857, 544.7978169928572, 544.7978169928571), (594.5481869387297, 594.54818693873, 594.5481869387302), (0.0, 0.0, 0.0), (0.0, 0.0, 0.0), (4052.2479995336407, 4052.2479995336357, 4052.2479995336357), (898.9664781999996, 898.9664782, 898.9664782), (3366.2721055761917, 3366.272105576192, 3366.272105576192), (311.54787800000014, 311.54787799999997, 311.547878), (0.0, 0.0, 0.0), (426.61609465634916, 426.6160946563492, 426.6160946563492), (78.6726263714285, 78.67262637142856, 78.67262637142856), (152.4035920666667, 152.40359206666668, 152.40359206666665), (0.0, 0.0, 0.0), (0.0, 0.0, 0.0), (0.0, 0.0, 0.0), (0.0, 0.0, 0.0), (0.0, 0.0, 0.0), (0.0, 0.0, 0.0), (0.0, 0.0, 0.0), (0.0, 0.0, 0.0), (0.0, 0.0, 0.0), (0.0, 0.0, 0.0), (0.0, 0.0, 0.0), (0.0, 0.0, 0.0), (0.0, 0.0, 0.0), (0.0, 0.0, 0.0), (450.9601779809511, 450.9601779809524, 450.9601779809524), (0.0, 0.0, 0.0), (1322.1996411333328, 1322.1996411333334, 1322.1996411333332), (95.96223005925955, 95.96223005925923, 95.96223005925923), (2.4600051999999977, 2.4600051999999994, 2.4600051999999994), (40.737787199999985, 40.7377872, 40.73778720000001), (445.90199459407376, 445.9019945940741, 445.90199459407415), (0.0, 0.0, 0.0), (0.0, 0.0, 0.0), (0.0, 0.0, 0.0), (0.0, 0.0, 0.0), (0.0, 0.0, 0.0), (0.0, 0.0, 0.0), (0.0, 0.0, 0.0), (0.13778053333333318, 0.13778053333333334, 0.13778053333333334), (58.435742933333394, 58.43574293333333, 58.435742933333316), (28.086669733333306, 28.08666973333333, 28.086669733333334), (0.0, 0.0, 0.0), (462.2395699818182, 462.23956998181825, 462.23956998181825), (15.988889999999998, 15.98889, 15.988890000000001), (131.3982053285714, 131.39820532857144, 131.39820532857146), (61.56667266666662, 61.56667266666667, 61.56667266666666), (213.69287823809518, 213.69287823809523, 213.6928782380952), (0.0, 0.0, 0.0), (0.0, 0.0, 0.0), (0.0, 0.0, 0.0), (0.0, 0.0, 0.0), (0.0, 0.0, 0.0), (0.0, 0.0, 0.0), (0.0, 0.0, 0.0), (132.5682238702381, 132.56822387023809, 132.5682238702381), (0.0, 0.0, 0.0), (1546.307417447619, 1546.3074174476192, 1546.3074174476192), (191.91177626666675, 191.91177626666664, 191.91177626666664), (51.88572533333337, 51.88572533333333, 51.88572533333333), (0.008889066666666678, 0.008889066666666667, 0.008889066666666669), (0.0, 0.0, 0.0), (0.0, 0.0, 0.0), (0.0, 0.0, 0.0), (0.0, 0.0, 0.0), (0.0, 0.0, 0.0), (0.0, 0.0, 0.0), (0.0, 0.0, 0.0), (0.0, 0.0, 0.0), (11643.227737175645, 11643.227737175643, 11643.22773717564), (1439.942404666667, 1439.9424046666668, 1439.9424046666666), (97.44288047619052, 97.44288047619048, 97.44288047619045), (1332.3052981333346, 1332.3052981333337, 1332.3052981333342), (3323.1378186329675, 3323.1378186329694, 3323.1378186329694), (25707.217167292732, 25707.217167292758, 25707.217167292754), (500.97073579519855, 500.97073579519827, 500.9707357951983), (0.0, 0.0, 0.0), (0.0, 0.0, 0.0), (0.0, 0.0, 0.0), (0.0, 0.0, 0.0), (44.61445473333333, 44.61445473333333, 44.61445473333334), (0.1555586666666667, 0.15555866666666668, 0.15555866666666668), (0.0, 0.0, 0.0), (0.0, 0.0, 0.0), (0.0, 0.0, 0.0), (0.0, 0.0, 0.0), (0.0, 0.0, 0.0), (0.12889146666666662, 0.12889146666666668, 0.1288914666666667), (0.0, 0.0, 0.0), (0.0, 0.0, 0.0), (0.0, 0.0, 0.0), (0.0, 0.0, 0.0), (0.0, 0.0, 0.0), (0.0, 0.0, 0.0), (0.0, 0.0, 0.0), (0.0, 0.0, 0.0), (0.0, 0.0, 0.0), (0.0, 0.0, 0.0), (0.0, 0.0, 0.0), (0.0, 0.0, 0.0), (0.0, 0.0, 0.0), (0.0, 0.0, 0.0), (0.0, 0.0, 0.0), (0.9511301333333322, 0.9511301333333334, 0.9511301333333334), (5.102260266666665, 5.102260266666665, 5.102260266666665), (0.0, 0.0, 0.0), (0.0, 0.0, 0.0), (64.36354060000001, 64.36354060000001, 64.36354060000002), (37.90669279999999, 37.9066928, 37.9066928), (0.0, 0.0, 0.0), (0.0, 0.0, 0.0), (0.0, 0.0, 0.0), (0.0, 0.0, 0.0), (0.0, 0.0, 0.0), (0.0, 0.0, 0.0), (0.0, 0.0, 0.0), (482.9188698660439, 482.9188698660439, 482.91886986604385), (6798.233290974277, 6798.233290974285, 6798.233290974285), (92.08704526666656, 92.08704526666664, 92.08704526666665), (85813.13189303856, 85813.13189303839, 85813.13189303839), (10930.033015986222, 10930.033015986237, 10930.033015986237), (1868.2633840380975, 1868.2633840380947, 1868.2633840380947), (97.27122986666674, 97.27122986666669, 97.27122986666669), (47367.55119177778, 47367.55119177779, 47367.5511917778), (12276.6593815111, 12276.659381511114, 12276.659381511114), (0.0, 0.0, 0.0), (3508.5630485534325, 3508.5630485534425, 3508.563048553443), (992.9929919666666, 992.9929919666664, 992.9929919666664), (2738.614994933335, 2738.6149949333335, 2738.6149949333335), (1299.4801170380936, 1299.4801170380954, 1299.4801170380954), (139500.76278905087, 139500.76278905084, 139500.76278905084), (224.06321929523827, 224.0632192952381, 224.0632192952381), (107.28953607619036, 107.28953607619046, 107.28953607619044), (48.1303213047619, 48.1303213047619, 48.13032130476191), (3795.8536267300783, 3795.8536267300765, 3795.8536267300765), (3281.638524226987, 3281.6385242269853, 3281.6385242269857), (461.50222983822715, 461.50222983822744, 461.50222983822744), (41.63476250476187, 41.6347625047619, 41.6347625047619), (978.5364080281385, 978.5364080281383, 978.5364080281385), (0.0, 0.0, 0.0), (0.0, 0.0, 0.0), (715.2953274505162, 715.295327450517, 715.295327450517), (5554.978332533324, 5554.978332533331, 5554.97833253333), (0.0, 0.0, 0.0), (0.0, 0.0, 0.0), (54788.66003434644, 54788.660034346496, 54788.66003434648), (25.94457133333332, 25.944571333333336, 25.94457133333334), (0.0, 0.0, 0.0), (66.47688506666667, 66.47688506666665, 66.47688506666665), (0.0, 0.0, 0.0), (48.12238616190477, 48.122386161904764, 48.12238616190477), (0.0, 0.0, 0.0), (0.0, 0.0, 0.0), (0.0, 0.0, 0.0), (285668.530533318, 285668.5305333177, 285668.5305333177), (157033.16817129092, 157033.16817129104, 157033.16817129104), (1831.2747353233724, 1831.2747353233763, 1831.2747353233765), (53348.23203258503, 53348.232032585074, 53348.232032585074), (2.800055999999998, 2.8000559999999997, 2.8000559999999997), (0.0, 0.0, 0.0), (3305.6384904809543, 3305.6384904809534, 3305.638490480954), (712.6734191347991, 712.6734191347987, 712.6734191347987), (107.99230591523809, 107.99230591523808, 107.99230591523808), (207.7668443095237, 207.76684430952386, 207.7668443095239), (0.0, 0.0, 0.0), (0.0, 0.0, 0.0), (57464.76138423335, 57464.76138423336, 57464.76138423335), (3299.0490285994915, 3299.0490285994947, 3299.049028599495), (22409.994127536618, 22409.994127536625, 22409.994127536625), (238.24502170952408, 238.2450217095238, 238.2450217095238), (0.0, 0.0, 0.0), (1842.1729819038956, 1842.172981903896, 1842.1729819038958), (206.7512385476189, 206.751238547619, 206.75123854761898), (412.4383578761909, 412.43835787619054, 412.43835787619054), (48.13238502857148, 48.13238502857143, 48.13238502857143), (0.0, 0.0, 0.0), (0.002222266666666667, 0.002222266666666667, 0.0022222666666666664), (19.702405600000024, 19.7024056, 19.702405599999995), (0.0, 0.0, 0.0), (0.0, 0.0, 0.0), (0.0, 0.0, 0.0), (0.0, 0.0, 0.0), (0.0, 0.0, 0.0), (0.0, 0.0, 0.0), (0.0, 0.0, 0.0), (0.0, 0.0, 0.0), (0.0, 0.0, 0.0), (0.0, 0.0, 0.0), (79.93563810952388, 79.93563810952381, 79.93563810952382), (0.0, 0.0, 0.0), (0.0, 0.0, 0.0), (0.0, 0.0, 0.0), (23.93682808571429, 23.936828085714286, 23.936828085714286), (33.26795781904761, 33.26795781904762, 33.26795781904763), (56.021171883333324, 56.02117188333333, 56.02117188333334), (0.0, 0.0, 0.0), (2097.3343454835945, 2097.334345483599, 2097.334345483599), (193.86351028571443, 193.86351028571428, 193.8635102857143), (18544.096199908814, 18544.09619990881, 18544.096199908807), (13.226928533333357, 13.22692853333333, 13.22692853333333), (1.4155598666666658, 1.4155598666666667, 1.4155598666666667), (48.12254470476188, 48.12254470476191, 48.1225447047619), (831.1224194666656, 831.1224194666669, 831.1224194666671), (33.73557160000003, 33.7355716, 33.7355716), (0.0, 0.0, 0.0), (0.0, 0.0, 0.0), (0.0, 0.0, 0.0), (0.0, 0.0, 0.0), (0.0, 0.0, 0.0), (0.0, 0.0, 0.0), (4074.172250624335, 4074.1722506243404, 4074.1722506243404), (0.0, 0.0, 0.0), (31.39848802499998, 31.398488025, 31.398488025000002), (0.0, 0.0, 0.0), (248.90900326746006, 248.9090032674603, 248.9090032674603), (96.65397047619047, 96.65397047619048, 96.65397047619047), (30.396675933333324, 30.39667593333333, 30.396675933333327), (0.024444933333333314, 0.02444493333333333, 0.02444493333333334), (1612.149661266667, 1612.1496612666667, 1612.1496612666667), (6.953333733333334, 6.953333733333333, 6.953333733333333), (0.0, 0.0, 0.0), (0.0, 0.0, 0.0), (0.0, 0.0, 0.0), (0.0, 0.0, 0.0), (0.0, 0.0, 0.0), (0.0, 0.0, 0.0), (766.0527723084659, 766.0527723084656, 766.0527723084657), (0.0, 0.0, 0.0), (1161.731492342859, 1161.731492342857, 1161.731492342857), (27155.337213406186, 27155.33721340613, 27155.337213406125), (17.04066703333333, 17.04066703333333, 17.04066703333333), (66.86146970476189, 66.8614697047619, 66.8614697047619), (0.0, 0.0, 0.0), (0.2888946666666667, 0.28889466666666663, 0.28889466666666663), (0.0, 0.0, 0.0), (0.0, 0.0, 0.0), (0.0, 0.0, 0.0), (0.0, 0.0, 0.0), (0.0, 0.0, 0.0), (0.0, 0.0, 0.0), (52299.587036233956, 52299.587036233985, 52299.587036233985), (3044.9362085428543, 3044.9362085428565, 3044.936208542856), (2193.156027800002, 2193.156027800001, 2193.156027800001), (17974.718493154993, 17974.71849315499, 17974.71849315499), (30816.635061370405, 30816.63506137038, 30816.635061370383), (161946.9404562603, 161946.94045626037, 161946.94045626037), (8551.116587410337, 8551.11658741034, 8551.11658741034), (24.06178761666668, 24.061787616666663, 24.061787616666667), (75.39869373333337, 75.39869373333335, 75.39869373333336), (0.0, 0.0, 0.0), (0.14444733333333337, 0.14444733333333334, 0.14444733333333334), (83.22235225627706, 83.22235225627706, 83.22235225627706), (0.0, 0.0, 0.0), (0.0, 0.0, 0.0), (0.0, 0.0, 0.0), (0.0, 0.0, 0.0), (3005.4699323333375, 3005.469932333335, 3005.469932333335), (0.0, 0.0, 0.0), (0.0, 0.0, 0.0), (0.0, 0.0, 0.0), (0.0, 0.0, 0.0), (0.0, 0.0, 0.0), (0.0, 0.0, 0.0), (0.0, 0.0, 0.0), (0.0, 0.0, 0.0), (0.0, 0.0, 0.0), (0.0, 0.0, 0.0), (0.0, 0.0, 0.0), (0.0, 0.0, 0.0), (0.0, 0.0, 0.0), (9.377960000000005, 9.377959999999995, 9.377959999999993), (0.0, 0.0, 0.0), (0.0, 0.0, 0.0), (0.0, 0.0, 0.0), (1101.4534722666674, 1101.4534722666685, 1101.4534722666685), (0.0, 0.0, 0.0), (16724.75158915553, 16724.75158915555, 16724.75158915555), (0.0, 0.0, 0.0), (0.0, 0.0, 0.0), (0.0, 0.0, 0.0), (0.0, 0.0, 0.0), (0.0, 0.0, 0.0), (0.0, 0.0, 0.0), (0.0, 0.0, 0.0), (0.0, 0.0, 0.0), (0.0, 0.0, 0.0), (0.0, 0.0, 0.0), (0.0, 0.0, 0.0), (0.0, 0.0, 0.0), (0.0, 0.0, 0.0), (0.0, 0.0, 0.0), (0.0, 0.0, 0.0), (0.0, 0.0, 0.0), (0.0, 0.0, 0.0), (0.0, 0.0, 0.0), (0.0, 0.0, 0.0), (0.0, 0.0, 0.0), (3502.947272914288, 3502.9472729142853, 3502.9472729142853), (455.3156752000004, 455.31567520000004, 455.3156752000001), (2345.1868523199973, 2345.1868523199996, 2345.1868523199996), (1493.5934861866667, 1493.5934861866667, 1493.5934861866667), (4.063346600000004, 4.063346599999999, 4.063346599999999), (0.0, 0.0, 0.0), (539.9716005454543, 539.9716005454545, 539.9716005454544), (2.5800515999999996, 2.5800516, 2.5800516), (0.0, 0.0, 0.0), (0.0, 0.0, 0.0), (0.0, 0.0, 0.0), (0.0, 0.0, 0.0), (0.0, 0.0, 0.0), (0.0, 0.0, 0.0), (0.0, 0.0, 0.0), (0.0, 0.0, 0.0), (0.0, 0.0, 0.0), (0.0, 0.0, 0.0), (0.0, 0.0, 0.0), (0.0, 0.0, 0.0), (0.0, 0.0, 0.0), (0.0, 0.0, 0.0), (0.0, 0.0, 0.0), (0.0, 0.0, 0.0), (0.0, 0.0, 0.0), (0.0, 0.0, 0.0), (0.0, 0.0, 0.0), (185.80694280000006, 185.8069428, 185.8069428), (24.766679333333364, 24.766679333333336, 24.766679333333336), (924.2313317333333, 924.2313317333334, 924.2313317333333), (0.0, 0.0, 0.0), (0.0, 0.0, 0.0), (0.0, 0.0, 0.0), (0.0, 0.0, 0.0), (0.0, 0.0, 0.0), (0.0, 0.0, 0.0), (23.978298073809526, 23.978298073809523, 23.97829807380952), (0.006666800000000001, 0.0066668, 0.006666799999999999), (0.0, 0.0, 0.0), (212.4088229380956, 212.40882293809528, 212.40882293809534), (3.635564266666662, 3.635564266666667, 3.6355642666666674), (14.788891333333352, 14.788891333333334, 14.788891333333334), (0.0, 0.0, 0.0), (104.6056245333334, 104.60562453333331, 104.6056245333333), (0.0, 0.0, 0.0), (0.0, 0.0, 0.0), (0.08555726666666652, 0.08555726666666666, 0.08555726666666666), (0.0, 0.0, 0.0), (0.0, 0.0, 0.0), (0.0, 0.0, 0.0), (60.360996533333385, 60.360996533333335, 60.36099653333333), (0.0, 0.0, 0.0), (32.30778659999994, 32.30778659999999, 32.30778659999999), (0.0, 0.0, 0.0), (5879.813541047621, 5879.813541047619, 5879.813541047619), (52.34254777142856, 52.34254777142857, 52.34254777142858), (0.0, 0.0, 0.0), (0.0, 0.0, 0.0), (49.927811333333324, 49.92781133333334, 49.92781133333335), (0.0, 0.0, 0.0), (0.0, 0.0, 0.0), (221.6591476849814, 221.6591476849817, 221.6591476849817), (67.39333853333326, 67.39333853333333, 67.39333853333333), (0.0, 0.0, 0.0), (1.2722223333333316, 1.2722223333333333, 1.2722223333333333), (56.33230219999996, 56.3323022, 56.332302199999994), (0.0, 0.0, 0.0), (2208.4874830666686, 2208.4874830666668, 2208.4874830666668), (0.2977837333333327, 0.29778373333333336, 0.29778373333333336), (318.8444249257138, 318.8444249257143, 318.84442492571435), (0.0, 0.0, 0.0), (0.0, 0.0, 0.0), (97.69286147619052, 97.69286147619047, 97.69286147619049), (215.4990745523811, 215.49907455238096, 215.49907455238093), (0.6233337999999997, 0.6233337999999999, 0.6233337999999999), (150.71049259047615, 150.7104925904762, 150.71049259047618), (0.0, 0.0, 0.0), (0.0, 0.0, 0.0), (0.6888920000000004, 0.688892, 0.6888919999999997), (0.0, 0.0, 0.0), (0.0, 0.0, 0.0), (0.0, 0.0, 0.0), (0.0, 0.0, 0.0), (362.46486861693097, 362.46486861693126, 362.46486861693126), (0.0, 0.0, 0.0), (0.3155565333333334, 0.31555653333333333, 0.3155565333333333), (0.0, 0.0, 0.0), (0.0, 0.0, 0.0), (48.138095238095175, 48.13809523809524, 48.13809523809524), (0.0, 0.0, 0.0), (1.5700287333333334, 1.5700287333333334, 1.5700287333333336), (0.0, 0.0, 0.0), (0.0, 0.0, 0.0), (1.0777793333333323, 1.0777793333333332, 1.0777793333333332), (503.86119804761864, 503.86119804761904, 503.8611980476191), (0.0, 0.0, 0.0), (0.0, 0.0, 0.0), (0.0, 0.0, 0.0), (0.0, 0.0, 0.0), (0.0, 0.0, 0.0), (0.0, 0.0, 0.0), (0.0, 0.0, 0.0), (0.0, 0.0, 0.0), (0.0, 0.0, 0.0), (75.06969971111103, 75.0696997111111, 75.06969971111108), (0.0, 0.0, 0.0), (0.03777853333333331, 0.037778533333333336, 0.037778533333333336), (0.0, 0.0, 0.0), (54.357799885714286, 54.35779988571428, 54.35779988571428), (49.580327638095184, 49.58032763809524, 49.580327638095234), (3.6844461333333323, 3.684446133333333, 3.684446133333333), (0.0, 0.0, 0.0), (0.0, 0.0, 0.0), (0.0, 0.0, 0.0), (0.0, 0.0, 0.0), (0.0, 0.0, 0.0), (0.0, 0.0, 0.0), (0.0, 0.0, 0.0), (0.0, 0.0, 0.0), (0.0, 0.0, 0.0), (44.01425349761906, 44.01425349761904, 44.014253497619045), (0.0, 0.0, 0.0), (0.0, 0.0, 0.0), (65.37411280000003, 65.37411279999999, 65.37411279999999), (0.0, 0.0, 0.0), (53813.83625521455, 53813.83625521455, 53813.836255214555), (52.65669113333336, 52.65669113333333, 52.65669113333333), (41.321833103030286, 41.3218331030303, 41.3218331030303), (0.0, 0.0, 0.0), (0.0, 0.0, 0.0), (0.0, 0.0, 0.0), (0.0, 0.0, 0.0), (0.0, 0.0, 0.0), (0.0, 0.0, 0.0), (0.0, 0.0, 0.0), (0.0, 0.0, 0.0), (0.0, 0.0, 0.0), (0.0, 0.0, 0.0), (0.0, 0.0, 0.0), (0.0, 0.0, 0.0), (0.0, 0.0, 0.0), (0.0, 0.0, 0.0), (0.0, 0.0, 0.0), (0.0, 0.0, 0.0), (0.0, 0.0, 0.0), (0.0, 0.0, 0.0), (0.0, 0.0, 0.0), (0.0, 0.0, 0.0), (0.0, 0.0, 0.0), (0.0, 0.0, 0.0), (0.0, 0.0, 0.0), (0.0, 0.0, 0.0), (0.0, 0.0, 0.0), (0.0, 0.0, 0.0), (0.0, 0.0, 0.0), (0.0, 0.0, 0.0), (0.0, 0.0, 0.0), (0.0, 0.0, 0.0), (0.0, 0.0, 0.0), (0.0, 0.0, 0.0), (0.0, 0.0, 0.0), (0.0, 0.0, 0.0), (0.0, 0.0, 0.0), (0.0, 0.0, 0.0), (0.0, 0.0, 0.0), (0.0, 0.0, 0.0), (0.0, 0.0, 0.0), (0.0, 0.0, 0.0), (23.040119466666656, 23.040119466666663, 23.040119466666663), (8.391150933333329, 8.391150933333332, 8.39115093333333), (70.02692586666689, 70.02692586666667, 70.02692586666669), (0.0, 0.0, 0.0), (5.013390933333338, 5.01339093333333, 5.01339093333333), (0.0, 0.0, 0.0), (0.0, 0.0, 0.0), (0.0, 0.0, 0.0), (0.0, 0.0, 0.0), (0.0, 0.0, 0.0), (0.0, 0.0, 0.0), (0.0, 0.0, 0.0), (0.0, 0.0, 0.0), (0.0, 0.0, 0.0), (0.0, 0.0, 0.0), (0.0, 0.0, 0.0), (0.0, 0.0, 0.0), (0.0, 0.0, 0.0), (0.0, 0.0, 0.0), (0.0, 0.0, 0.0), (0.0, 0.0, 0.0), (0.0, 0.0, 0.0), (0.0, 0.0, 0.0), (0.0, 0.0, 0.0), (0.0, 0.0, 0.0), (0.0, 0.0, 0.0), (0.0, 0.0, 0.0), (0.0, 0.0, 0.0), (0.0, 0.0, 0.0), (0.0, 0.0, 0.0), (4.255640666666666, 4.255640666666666, 4.255640666666667), (0.0, 0.0, 0.0), (0.4488978666666661, 0.4488978666666667, 0.4488978666666667), (0.0, 0.0, 0.0), (0.0, 0.0, 0.0), (0.0, 0.0, 0.0), (0.0, 0.0, 0.0), (0.0, 0.0, 0.0), (0.0, 0.0, 0.0), (0.0, 0.0, 0.0), (0.0, 0.0, 0.0), (18.59567146666665, 18.595671466666666, 18.595671466666666), (272.6186968000001, 272.61869679999995, 272.6186968), (152.42715519999993, 152.42715519999996, 152.42715519999996), (350.5032296000002, 350.5032296, 350.5032296000001), (0.0, 0.0, 0.0), (0.0, 0.0, 0.0), (0.0, 0.0, 0.0), (0.0, 0.0, 0.0), (0.0, 0.0, 0.0), (0.0, 0.0, 0.0), (0.0, 0.0, 0.0), (0.0, 0.0, 0.0), (0.0, 0.0, 0.0), (0.0, 0.0, 0.0), (0.0, 0.0, 0.0), (0.0, 0.0, 0.0), (0.0, 0.0, 0.0), (0.0, 0.0, 0.0), (0.0, 0.0, 0.0), (0.0, 0.0, 0.0), (0.0, 0.0, 0.0), (0.0, 0.0, 0.0), (0.0, 0.0, 0.0), (0.0, 0.0, 0.0), (0.0, 0.0, 0.0), (0.0, 0.0, 0.0), (0.0, 0.0, 0.0), (0.0, 0.0, 0.0), (0.0, 0.0, 0.0), (0.0, 0.0, 0.0), (0.0, 0.0, 0.0), (0.0, 0.0, 0.0), (0.0, 0.0, 0.0), (0.0, 0.0, 0.0), (0.0, 0.0, 0.0), (0.0, 0.0, 0.0), (0.0, 0.0, 0.0), (0.0, 0.0, 0.0), (0.0, 0.0, 0.0), (0.0, 0.0, 0.0), (0.0, 0.0, 0.0), (0.0, 0.0, 0.0), (7.91559386666667, 7.915593866666668, 7.9155938666666685), (0.0, 0.0, 0.0), (0.0, 0.0, 0.0), (0.0, 0.0, 0.0), (0.0, 0.0, 0.0), (0.0, 0.0, 0.0), (0.0, 0.0, 0.0), (0.0, 0.0, 0.0), (0.0, 0.0, 0.0), (0.0, 0.0, 0.0), (0.0, 0.0, 0.0), (0.0, 0.0, 0.0), (0.0, 0.0, 0.0), (0.0, 0.0, 0.0), (0.0, 0.0, 0.0), (0.0, 0.0, 0.0), (0.0, 0.0, 0.0), (0.0, 0.0, 0.0), (0.0, 0.0, 0.0), (0.0, 0.0, 0.0), (0.0, 0.0, 0.0), (0.0, 0.0, 0.0), (0.0, 0.0, 0.0), (0.0, 0.0, 0.0), (0.0, 0.0, 0.0), (0.0, 0.0, 0.0), (0.0, 0.0, 0.0), (0.0, 0.0, 0.0), (0.0, 0.0, 0.0), (0.0, 0.0, 0.0), (0.0, 0.0, 0.0), (0.0, 0.0, 0.0), (0.0, 0.0, 0.0), (0.0, 0.0, 0.0), (0.0, 0.0, 0.0), (0.0, 0.0, 0.0), (0.0, 0.0, 0.0), (0.0, 0.0, 0.0), (0.0, 0.0, 0.0), (0.0, 0.0, 0.0), (0.0, 0.0, 0.0), (0.0, 0.0, 0.0), (0.0, 0.0, 0.0), (113.68730647619054, 113.68730647619047, 113.68730647619047), (8338.01341356705, 8338.013413567054, 8338.013413567056), (0.0, 0.0, 0.0), (11459.306432978923, 11459.30643297889, 11459.30643297889), (6953.249083253312, 6953.249083253334, 6953.249083253334), (2239.089339325132, 2239.089339325132, 2239.089339325132), (192.1464547531138, 192.14645475311357, 192.1464547531136), (56327.932104447755, 56327.93210444771, 56327.93210444771), (4089.864610266665, 4089.864610266668, 4089.864610266667), (0.0, 0.0, 0.0), (176080.64798646866, 176080.6479864688, 176080.64798646883), (150.8511725333336, 150.85117253333337, 150.85117253333337), (3975.4502970666704, 3975.450297066666, 3975.4502970666663), (2.257822933333335, 2.2578229333333337, 2.2578229333333337), (47157.18018144008, 47157.18018144003, 47157.18018144003), (43.57970138571429, 43.57970138571429, 43.57970138571429), (290.6653156769228, 290.6653156769231, 290.66531567692306), (0.0, 0.0, 0.0), (16243.106918637315, 16243.106918637308, 16243.106918637312), (190.42407983703703, 190.42407983703703, 190.42407983703703), (150.2673061999998, 150.26730619999995, 150.26730619999995), (0.0, 0.0, 0.0), (75.49117159999996, 75.4911716, 75.4911716), (0.0, 0.0, 0.0), (0.0, 0.0, 0.0), (1121.0679061210633, 1121.0679061210642, 1121.0679061210642), (49.09782239999996, 49.097822400000005, 49.0978224), (596.1717047424339, 596.1717047424338, 596.1717047424338), (0.9122231333333325, 0.9122231333333333, 0.9122231333333332), (191.07817421025632, 191.0781742102564, 191.0781742102564), (0.0, 0.0, 0.0), (0.0, 0.0, 0.0), (0.0, 0.0, 0.0), (0.0, 0.0, 0.0), (0.0, 0.0, 0.0), (0.0, 0.0, 0.0), (0.0, 0.0, 0.0), (0.0, 0.0, 0.0), (33822.48281577777, 33822.48281577773, 33822.48281577772), (21829.761366820712, 21829.761366820694, 21829.76136682069), (11088.328696701494, 11088.328696701517, 11088.32869670152), (28999.14791602242, 28999.14791602246, 28999.14791602246), (0.0, 0.0, 0.0), (0.0, 0.0, 0.0), (11509.343374401347, 11509.343374401342, 11509.343374401344), (1520.9709749051294, 1520.9709749051283, 1520.9709749051283), (861.3476319389614, 861.3476319389611, 861.347631938961), (1925.9492905264556, 1925.9492905264551, 1925.949290526455), (0.0, 0.0, 0.0), (0.0, 0.0, 0.0), (69898.66927154425, 69898.66927154429, 69898.66927154429), (4956.274844524389, 4956.2748445243915, 4956.274844524393), (29332.957588721994, 29332.957588722013, 29332.957588722016), (3421.9315751531176, 3421.931575153113, 3421.931575153113), (0.0, 0.0, 0.0), (9800.114289386172, 9800.114289386187, 9800.114289386185), (0.0, 0.0, 0.0), (102.21076695555554, 102.21076695555554, 102.21076695555554), (75.87132186666668, 75.87132186666666, 75.87132186666668), (0.0, 0.0, 0.0), (6.155558666666667, 6.155558666666667, 6.155558666666668), (0.053334399999999914, 0.0533344, 0.05333439999999999), (0.0, 0.0, 0.0), (0.0, 0.0, 0.0), (7.017413533333332, 7.017413533333333, 7.017413533333333), (0.0, 0.0, 0.0), (0.0, 0.0, 0.0), (0.0, 0.0, 0.0), (18776.82430250194, 18776.824302502, 18776.824302502), (253.97348293333323, 253.97348293333337, 253.97348293333334)]\n"
     ]
    }
   ],
   "source": [
    "\n",
    "\n",
    "print(list(zip(a[:1000], b[:1000], d[:1000])))"
   ]
  },
  {
   "cell_type": "code",
   "execution_count": 54,
   "id": "a40f6a49-317e-4d0f-95ee-a21efa964bb0",
   "metadata": {},
   "outputs": [],
   "source": [
    "assert np.allclose(demand, elas['avg_daily_demand_removed_nulls'])"
   ]
  },
  {
   "cell_type": "code",
   "execution_count": 55,
   "id": "58d233ac-32ba-42d7-8ced-9d5614b27577",
   "metadata": {},
   "outputs": [],
   "source": [
    "x = pd.DataFrame({\"a\":[1,1,3,2,2,1,3], \"b\":[10,20,30,40,50,60,70]})"
   ]
  },
  {
   "cell_type": "code",
   "execution_count": 56,
   "id": "ab11d057-c964-40dc-bda5-eaf9bf8d4f96",
   "metadata": {},
   "outputs": [
    {
     "data": {
      "text/html": [
       "<div>\n",
       "<style scoped>\n",
       "    .dataframe tbody tr th:only-of-type {\n",
       "        vertical-align: middle;\n",
       "    }\n",
       "\n",
       "    .dataframe tbody tr th {\n",
       "        vertical-align: top;\n",
       "    }\n",
       "\n",
       "    .dataframe thead th {\n",
       "        text-align: right;\n",
       "    }\n",
       "</style>\n",
       "<table border=\"1\" class=\"dataframe\">\n",
       "  <thead>\n",
       "    <tr style=\"text-align: right;\">\n",
       "      <th></th>\n",
       "      <th>a</th>\n",
       "      <th>b</th>\n",
       "    </tr>\n",
       "  </thead>\n",
       "  <tbody>\n",
       "    <tr>\n",
       "      <th>0</th>\n",
       "      <td>1</td>\n",
       "      <td>90</td>\n",
       "    </tr>\n",
       "    <tr>\n",
       "      <th>1</th>\n",
       "      <td>2</td>\n",
       "      <td>90</td>\n",
       "    </tr>\n",
       "    <tr>\n",
       "      <th>2</th>\n",
       "      <td>3</td>\n",
       "      <td>100</td>\n",
       "    </tr>\n",
       "  </tbody>\n",
       "</table>\n",
       "</div>"
      ],
      "text/plain": [
       "   a    b\n",
       "0  1   90\n",
       "1  2   90\n",
       "2  3  100"
      ]
     },
     "execution_count": 56,
     "metadata": {},
     "output_type": "execute_result"
    }
   ],
   "source": [
    "x.groupby(by=[\"a\"]).sum().reset_index()"
   ]
  },
  {
   "cell_type": "code",
   "execution_count": 57,
   "id": "23c4aa85-c65f-4e41-992c-0bc0ec16ccc9",
   "metadata": {},
   "outputs": [
    {
     "data": {
      "text/html": [
       "<div>\n",
       "<style scoped>\n",
       "    .dataframe tbody tr th:only-of-type {\n",
       "        vertical-align: middle;\n",
       "    }\n",
       "\n",
       "    .dataframe tbody tr th {\n",
       "        vertical-align: top;\n",
       "    }\n",
       "\n",
       "    .dataframe thead th {\n",
       "        text-align: right;\n",
       "    }\n",
       "</style>\n",
       "<table border=\"1\" class=\"dataframe\">\n",
       "  <thead>\n",
       "    <tr style=\"text-align: right;\">\n",
       "      <th></th>\n",
       "      <th>a</th>\n",
       "      <th>c</th>\n",
       "    </tr>\n",
       "  </thead>\n",
       "  <tbody>\n",
       "    <tr>\n",
       "      <th>0</th>\n",
       "      <td>1</td>\n",
       "      <td>90</td>\n",
       "    </tr>\n",
       "    <tr>\n",
       "      <th>1</th>\n",
       "      <td>2</td>\n",
       "      <td>90</td>\n",
       "    </tr>\n",
       "    <tr>\n",
       "      <th>2</th>\n",
       "      <td>3</td>\n",
       "      <td>100</td>\n",
       "    </tr>\n",
       "  </tbody>\n",
       "</table>\n",
       "</div>"
      ],
      "text/plain": [
       "   a    c\n",
       "0  1   90\n",
       "1  2   90\n",
       "2  3  100"
      ]
     },
     "execution_count": 57,
     "metadata": {},
     "output_type": "execute_result"
    }
   ],
   "source": [
    "x.groupby(by=[\"a\"], as_index=False).agg(c=(\"b\", \"sum\"))"
   ]
  },
  {
   "cell_type": "code",
   "execution_count": 58,
   "id": "a0a063dc-3529-4709-bdfd-e68442e9a034",
   "metadata": {},
   "outputs": [],
   "source": [
    "x[\"b\"] = 2*x[\"b\"]"
   ]
  },
  {
   "cell_type": "code",
   "execution_count": 59,
   "id": "12cd3af3-0068-4498-8427-edbaafc9c857",
   "metadata": {},
   "outputs": [
    {
     "data": {
      "text/plain": [
       "7991"
      ]
     },
     "execution_count": 59,
     "metadata": {},
     "output_type": "execute_result"
    }
   ],
   "source": [
    "len(elas)"
   ]
  },
  {
   "cell_type": "code",
   "execution_count": null,
   "id": "2839ba37-eb8d-470d-a4fb-f7abfe37bf44",
   "metadata": {},
   "outputs": [],
   "source": []
  }
 ],
 "metadata": {
  "kernelspec": {
   "display_name": "Python 3 (ipykernel)",
   "language": "python",
   "name": "python3"
  },
  "language_info": {
   "codemirror_mode": {
    "name": "ipython",
    "version": 3
   },
   "file_extension": ".py",
   "mimetype": "text/x-python",
   "name": "python",
   "nbconvert_exporter": "python",
   "pygments_lexer": "ipython3",
   "version": "3.10.11"
  }
 },
 "nbformat": 4,
 "nbformat_minor": 5
}
