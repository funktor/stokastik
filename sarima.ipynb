{
 "cells": [
  {
   "cell_type": "code",
   "execution_count": 1,
   "id": "f14bcd39-d7b4-4a14-b4c4-eaa096abc296",
   "metadata": {},
   "outputs": [
    {
     "name": "stdout",
     "output_type": "stream",
     "text": [
      "Downloads/2023\\07\\2023-07-06.csv\n",
      "Downloads/2023\\07\\2023-07-07.csv\n",
      "Downloads/2023\\07\\2023-07-08.csv\n",
      "Downloads/2023\\07\\2023-07-09.csv\n",
      "Downloads/2023\\07\\2023-07-10.csv\n",
      "Downloads/2023\\07\\2023-07-11.csv\n",
      "Downloads/2023\\07\\2023-07-12.csv\n",
      "Downloads/2023\\07\\2023-07-13.csv\n",
      "Downloads/2023\\07\\2023-07-14.csv\n",
      "Downloads/2023\\07\\2023-07-15.csv\n",
      "Downloads/2023\\07\\2023-07-16.csv\n",
      "Downloads/2023\\07\\2023-07-17.csv\n",
      "Downloads/2023\\07\\2023-07-18.csv\n",
      "Downloads/2023\\07\\2023-07-19.csv\n",
      "Downloads/2023\\07\\2023-07-20.csv\n",
      "Downloads/2023\\07\\2023-07-21.csv\n",
      "Downloads/2023\\07\\2023-07-22.csv\n",
      "Downloads/2023\\07\\2023-07-23.csv\n",
      "Downloads/2023\\07\\2023-07-24.csv\n",
      "Downloads/2023\\07\\2023-07-25.csv\n",
      "Downloads/2023\\07\\2023-07-26.csv\n",
      "Downloads/2023\\07\\2023-07-27.csv\n",
      "Downloads/2023\\07\\2023-07-28.csv\n",
      "Downloads/2023\\07\\2023-07-29.csv\n",
      "Downloads/2023\\07\\2023-07-30.csv\n",
      "Downloads/2023\\07\\2023-07-31.csv\n",
      "Downloads/2023\\08\\2023-08-01.csv\n",
      "Downloads/2023\\08\\2023-08-02.csv\n",
      "Downloads/2023\\08\\2023-08-03.csv\n",
      "Downloads/2023\\08\\2023-08-04.csv\n",
      "Downloads/2023\\08\\2023-08-05.csv\n",
      "Downloads/2023\\08\\2023-08-06.csv\n",
      "Downloads/2023\\08\\2023-08-07.csv\n",
      "Downloads/2023\\08\\2023-08-08.csv\n",
      "Downloads/2023\\08\\2023-08-09.csv\n",
      "Downloads/2023\\08\\2023-08-10.csv\n",
      "Downloads/2023\\08\\2023-08-11.csv\n",
      "Downloads/2023\\08\\2023-08-12.csv\n",
      "Downloads/2023\\08\\2023-08-13.csv\n",
      "Downloads/2023\\08\\2023-08-14.csv\n",
      "Downloads/2023\\08\\2023-08-15.csv\n",
      "Downloads/2023\\08\\2023-08-16.csv\n",
      "Downloads/2023\\08\\2023-08-17.csv\n",
      "Downloads/2023\\08\\2023-08-18.csv\n",
      "Downloads/2023\\08\\2023-08-19.csv\n",
      "Downloads/2023\\08\\2023-08-20.csv\n",
      "Downloads/2023\\08\\2023-08-21.csv\n",
      "Downloads/2023\\08\\2023-08-22.csv\n",
      "Downloads/2023\\08\\2023-08-23.csv\n",
      "Downloads/2023\\08\\2023-08-24.csv\n",
      "Downloads/2023\\08\\2023-08-25.csv\n",
      "Downloads/2023\\08\\2023-08-26.csv\n",
      "Downloads/2023\\08\\2023-08-27.csv\n",
      "Downloads/2023\\08\\2023-08-28.csv\n",
      "Downloads/2023\\08\\2023-08-29.csv\n",
      "Downloads/2023\\08\\2023-08-30.csv\n",
      "Downloads/2023\\08\\2023-08-31.csv\n",
      "Downloads/2023\\09\\2023-09-01.csv\n",
      "Downloads/2023\\09\\2023-09-02.csv\n",
      "Downloads/2023\\09\\2023-09-03.csv\n",
      "Downloads/2023\\09\\2023-09-04.csv\n",
      "Downloads/2023\\09\\2023-09-05.csv\n",
      "Downloads/2023\\09\\2023-09-06.csv\n",
      "Downloads/2023\\09\\2023-09-07.csv\n",
      "Downloads/2023\\09\\2023-09-08.csv\n",
      "Downloads/2023\\09\\2023-09-09.csv\n",
      "Downloads/2023\\09\\2023-09-10.csv\n",
      "Downloads/2023\\09\\2023-09-11.csv\n",
      "Downloads/2023\\09\\2023-09-12.csv\n",
      "Downloads/2023\\09\\2023-09-13.csv\n",
      "Downloads/2023\\09\\2023-09-14.csv\n",
      "Downloads/2023\\09\\2023-09-15.csv\n",
      "Downloads/2023\\09\\2023-09-16.csv\n",
      "Downloads/2023\\09\\2023-09-17.csv\n",
      "Downloads/2023\\09\\2023-09-18.csv\n",
      "Downloads/2023\\09\\2023-09-19.csv\n",
      "Downloads/2023\\09\\2023-09-20.csv\n",
      "Downloads/2023\\09\\2023-09-21.csv\n",
      "Downloads/2023\\09\\2023-09-22.csv\n",
      "Downloads/2023\\09\\2023-09-23.csv\n",
      "Downloads/2023\\09\\2023-09-24.csv\n",
      "Downloads/2023\\09\\2023-09-25.csv\n",
      "Downloads/2023\\09\\2023-09-26.csv\n",
      "Downloads/2023\\09\\2023-09-27.csv\n",
      "Downloads/2023\\09\\2023-09-28.csv\n",
      "Downloads/2023\\09\\2023-09-29.csv\n",
      "Downloads/2023\\09\\2023-09-30.csv\n",
      "Downloads/2023\\10\\2023-10-01.csv\n",
      "Downloads/2023\\10\\2023-10-02.csv\n",
      "Downloads/2023\\10\\2023-10-03.csv\n",
      "Downloads/2023\\10\\2023-10-04.csv\n",
      "Downloads/2023\\10\\2023-10-05.csv\n",
      "Downloads/2023\\10\\2023-10-06.csv\n"
     ]
    }
   ],
   "source": [
    "# Read daily files\n",
    "import glob, pandas as pd\n",
    "files = glob.glob(\"Downloads/2023/**/*.csv\")\n",
    "\n",
    "dfs = []\n",
    "\n",
    "for file in files:\n",
    "    print(file)\n",
    "    df_file = pd.read_csv(file, sep=\",\", index_col=None, header=0)\n",
    "    dfs.append(df_file)\n",
    "\n",
    "df = pd.concat(dfs, axis=0, ignore_index=True)"
   ]
  },
  {
   "cell_type": "code",
   "execution_count": 2,
   "id": "c85bbafb-b063-4175-9ba5-290a64384e58",
   "metadata": {},
   "outputs": [],
   "source": [
    "df_keys = \\\n",
    "    df[[\"Hwsku\", \"Tenant\", \"Region\"]]\\\n",
    "    .drop_duplicates()\\\n",
    "    .reset_index()"
   ]
  },
  {
   "cell_type": "code",
   "execution_count": 3,
   "id": "1793fd2a-f2d7-495a-896d-289a7c51db20",
   "metadata": {},
   "outputs": [],
   "source": [
    "IN_STEPS, OUT_STEPS = 168, 168"
   ]
  },
  {
   "cell_type": "code",
   "execution_count": 16,
   "id": "e287fe06-6291-4f43-b12d-d048e328b08a",
   "metadata": {},
   "outputs": [],
   "source": [
    "# Plotting function\n",
    "\n",
    "import numpy as np, pandas as pd\n",
    "from statsmodels.graphics.tsaplots import plot_acf, plot_pacf\n",
    "import matplotlib.pyplot as plt\n",
    "from statsmodels.tsa.seasonal import seasonal_decompose\n",
    "from sklearn.ensemble import IsolationForest\n",
    "import os\n",
    "import datetime\n",
    "import IPython\n",
    "import IPython.display\n",
    "import matplotlib as mpl\n",
    "import seaborn as sns\n",
    "import tensorflow as tf\n",
    "\n",
    "def plot_figure(values, labels, titles, use_subplots=True):\n",
    "    plt.figure(figsize=(12,5), dpi=100)\n",
    "\n",
    "    if use_subplots and len(values) > 1:\n",
    "        fig, axes = plt.subplots(len(values), 1, sharex=True)\n",
    "    \n",
    "        for i in range(len(values)):\n",
    "            axes[i].plot(values[i], label=labels[i])\n",
    "            axes[i].set_title(titles[i])\n",
    "            axes[i].legend(loc='upper left', fontsize=8)\n",
    "    else:\n",
    "        for i in range(len(values)):\n",
    "            plt.plot(values[i], label=labels[i])\n",
    "            \n",
    "        plt.title(titles[0])\n",
    "        plt.legend(loc='upper left', fontsize=8)\n",
    "        \n",
    "    plt.show()"
   ]
  },
  {
   "cell_type": "code",
   "execution_count": 21,
   "id": "7264e8ad-fb4a-4456-9ffe-ea73f43210f9",
   "metadata": {},
   "outputs": [],
   "source": [
    "def create_dataset(data, input_steps=1, output_steps=1):\n",
    "    Xs, Ys = [], []\n",
    "    \n",
    "    for i in range(len(data) - input_steps - output_steps):\n",
    "        u = data.iloc[i:(i + input_steps)].values\n",
    "        v = data.iloc[(i + input_steps):(i + input_steps + output_steps)].values\n",
    "        Xs.append(u)        \n",
    "        Ys.append(v)\n",
    "\n",
    "    Xs = np.array(Xs)\n",
    "    Xs = Xs.reshape(Xs.shape[0], Xs.shape[1], 1)\n",
    "\n",
    "    Ys = np.array(Ys)\n",
    "    Ys = Ys.reshape(Ys.shape[0], Ys.shape[1], 1)\n",
    "    \n",
    "    return Xs, Ys"
   ]
  },
  {
   "cell_type": "code",
   "execution_count": 22,
   "id": "ff188a54-d6c5-41ff-94c7-cda98999f55e",
   "metadata": {},
   "outputs": [],
   "source": [
    "def model_ts():\n",
    "    model = tf.keras.Sequential()\n",
    "    model.add(tf.keras.layers.Conv1D(filters=4096, kernel_size=IN_STEPS, activation='relu', input_shape=(IN_STEPS, 1)))\n",
    "    model.add(tf.keras.layers.Dense(OUT_STEPS, kernel_initializer=tf.initializers.zeros()))\n",
    "    model.add(tf.keras.layers.Reshape([OUT_STEPS, 1]))\n",
    "    model.compile(loss='mean_squared_error', optimizer=tf.keras.optimizers.Adam(0.001))\n",
    "\n",
    "    return model"
   ]
  },
  {
   "cell_type": "code",
   "execution_count": 25,
   "id": "668af6a8-8e0f-46e0-9f19-381afa3b8e23",
   "metadata": {},
   "outputs": [],
   "source": [
    "def do_process(df, hwsku, tenant, region):\n",
    "    key = hwsku + \"___\" + tenant + \"___\" + region\n",
    "    print(key)\n",
    "    \n",
    "    # Filter based on Hwsku, Tenant and Region\n",
    "    print(\"Filtering based on key...\")\n",
    "    df_one = \\\n",
    "        df\\\n",
    "        [\\\n",
    "            (df.Hwsku == hwsku)&\\\n",
    "            (df.Tenant == tenant)&\\\n",
    "            (df.Region == region)\\\n",
    "        ].reset_index()\n",
    "\n",
    "    if len(df_one) < 1000:\n",
    "        return\n",
    "\n",
    "    # Select SnapshotTime and PhysicalCores\n",
    "    df_filt = df_one[[\"SnapshotTime\", \"PhysicalCores\"]].copy()\n",
    "    df_filt.rename(columns={\"PhysicalCores\":\"cores\"}, inplace=True)\n",
    "\n",
    "    # Replace NULL with 0 values for PhysicalCores\n",
    "    df_filt.fillna(0, inplace=True)\n",
    "\n",
    "    plot_figure([df_filt.cores], [\"num_cores\"], [\"Physical Cores\"])\n",
    "\n",
    "    # Do FFT transform of the values to get the period of the series\n",
    "    print(\"Doing FFT Transform for period calculation...\")\n",
    "    fft = np.fft.rfft(df_filt.cores)\n",
    "\n",
    "    plot_figure([abs(fft)[1:]], [\"frequency\"], [\"FFT Transform\"])\n",
    "\n",
    "    # Find period of series from FFT transformation\n",
    "    # period of the data is around 168 = 24*7, the values have a weekly\n",
    "    # cycle and since the data is 1hr window, thus period in number of hours = 7*24 = 168\n",
    "    \n",
    "    periods = np.argsort(abs(fft))[::-1][:10]\n",
    "    period = [p for p in periods if p > 0][0]\n",
    "    period = int(len(df_filt)/period)+1\n",
    "    print(period)\n",
    "\n",
    "    # Decompose time series into trend, seasonal and residual components\n",
    "    print(\"Doing time series decomposition...\")\n",
    "    result = seasonal_decompose(df_filt.cores, \n",
    "                                model='additive', \n",
    "                                extrapolate_trend='freq', \n",
    "                                period=168)\n",
    "    print(result.trend)\n",
    "    print(result.seasonal)\n",
    "    print(result.resid)\n",
    "    print(result.observed)\n",
    "\n",
    "    # Plot decomposed time series\n",
    "\n",
    "    plot_figure([result.trend, result.seasonal, result.resid], \n",
    "            [\"trend\", \"seasonality\", \"residual\"], \n",
    "            [\"Trend\", \"Seasonality\", \"Residual\"])\n",
    "\n",
    "    # Perform anomaly detection on residual series.\n",
    "    # Here we are using the Isolation Forest algorithm\n",
    "\n",
    "    print(\"Doing anomaly detection on residuals...\")\n",
    "    \n",
    "    anomaly_data = [[x] for x in result.resid]\n",
    "    clf = IsolationForest(random_state=0).fit(anomaly_data)\n",
    "    out = clf.predict(anomaly_data)\n",
    "\n",
    "    # Replace anomaly values with moving average of last 24 hours\n",
    "\n",
    "    print(\"Replacing anomalies with last 24 hrs MA...\")\n",
    "    \n",
    "    anomaly_indices = [i for i in range(len(out)) if out[i] == -1]\n",
    "    anomaly_indices_prev = [[max(0,i-24), max(0,i-1)] for i in anomaly_indices]\n",
    "    prev_averages = [df_filt[\"cores\"].loc[x:y].mean() for x, y in anomaly_indices_prev]\n",
    "\n",
    "    df_filt.loc[anomaly_indices, \"cores\"] = prev_averages\n",
    "\n",
    "    plot_figure([df_filt.cores], [\"num_cores\"], [\"Physical Cores\"])\n",
    "\n",
    "    # Create Training and Test\n",
    "    print(\"Creating train test data...\")\n",
    "    \n",
    "    n = int(0.9*len(df_filt))\n",
    "    train = df_filt.cores[:n]\n",
    "    test = df_filt.cores[n:]\n",
    "\n",
    "    train_mean = train.mean()\n",
    "    train_std = train.std()\n",
    "    \n",
    "    train = (train - train_mean) / train_std\n",
    "\n",
    "    X_train, y_train = create_dataset(train, IN_STEPS, OUT_STEPS)\n",
    "\n",
    "    print(\"Training model...\")\n",
    "    model = model_ts()\n",
    "\n",
    "    history = \\\n",
    "        model.fit(\\\n",
    "                X_train, \n",
    "                y_train, \n",
    "                epochs=100, \n",
    "                batch_size=32, \n",
    "                validation_split=None, \n",
    "                verbose=1, \n",
    "                shuffle=False\n",
    "               )\n",
    "\n",
    "    print(\"Doing prediction on test data...\")\n",
    "    u = train.iloc[-IN_STEPS:].values\n",
    "    u = np.array(u).reshape(1, IN_STEPS, 1)\n",
    "    v = model.predict(u)\n",
    "    v = v[0]*train_std+train_mean\n",
    "    v = v.reshape(1, v.shape[0])\n",
    "\n",
    "    plot_figure([test.tolist(), v[0].tolist()], \n",
    "                [\"actual\", \"forecast\"], \n",
    "                [\"Forecast vs Actuals\"], \n",
    "                use_subplots=False)"
   ]
  },
  {
   "cell_type": "code",
   "execution_count": 26,
   "id": "4eb353c7-45d6-4766-8389-5fb58afbb0f9",
   "metadata": {},
   "outputs": [
    {
     "name": "stdout",
     "output_type": "stream",
     "text": [
      "intel_lm_mm___tyo22prdapp29___japaneast\n",
      "Filtering based on key...\n"
     ]
    },
    {
     "data": {
      "image/png": "[encoded data removed]",
      "text/plain": [
       "<Figure size 1200x500 with 1 Axes>"
      ]
     },
     "metadata": {},
     "output_type": "display_data"
    },
    {
     "name": "stdout",
     "output_type": "stream",
     "text": [
      "Doing FFT Transform for period calculation...\n"
     ]
    },
    {
     "data": {
      "image/png": "[encoded data removed]",
      "text/plain": [
       "<Figure size 1200x500 with 1 Axes>"
      ]
     },
     "metadata": {},
     "output_type": "display_data"
    },
    {
     "name": "stdout",
     "output_type": "stream",
     "text": [
      "1091\n",
      "Doing time series decomposition...\n",
      "0       7655.141162\n",
      "1       7653.171735\n",
      "2       7651.202308\n",
      "3       7649.232882\n",
      "4       7647.263455\n",
      "           ...     \n",
      "2176    6911.520168\n",
      "2177    6916.676444\n",
      "2178    6921.832720\n",
      "2179    6926.988995\n",
      "2180    6932.145271\n",
      "Name: trend, Length: 2181, dtype: float64\n",
      "0       -66.762118\n",
      "1       -62.976740\n",
      "2       -72.647875\n",
      "3      -606.333732\n",
      "4      -603.310167\n",
      "           ...    \n",
      "2176    148.137812\n",
      "2177    163.501524\n",
      "2178    165.102624\n",
      "2179    157.850901\n",
      "2180    160.995993\n",
      "Name: seasonal, Length: 2181, dtype: float64\n",
      "0        -16.918206\n",
      "1        -64.633321\n",
      "2        -93.913750\n",
      "3        431.962664\n",
      "4        491.005986\n",
      "           ...     \n",
      "2176    2500.381737\n",
      "2177    2486.079226\n",
      "2178    2480.012313\n",
      "2179    2493.852251\n",
      "2180    2491.015099\n",
      "Name: resid, Length: 2181, dtype: float64\n",
      "0       7571.460837\n",
      "1       7525.561675\n",
      "2       7484.640684\n",
      "3       7474.861813\n",
      "4       7534.959274\n",
      "           ...     \n",
      "2176    9560.039717\n",
      "2177    9566.257194\n",
      "2178    9566.947657\n",
      "2179    9578.692148\n",
      "2180    9584.156364\n",
      "Name: cores, Length: 2181, dtype: float64\n"
     ]
    },
    {
     "data": {
      "text/plain": [
       "<Figure size 1200x500 with 0 Axes>"
      ]
     },
     "metadata": {},
     "output_type": "display_data"
    },
    {
     "data": {
      "image/png": "[encoded data removed]",
      "text/plain": [
       "<Figure size 640x480 with 3 Axes>"
      ]
     },
     "metadata": {},
     "output_type": "display_data"
    },
    {
     "name": "stdout",
     "output_type": "stream",
     "text": [
      "Doing anomaly detection on residuals...\n",
      "Replacing anomalies with last 24 hrs MA...\n"
     ]
    },
    {
     "data": {
      "image/png": "[encoded data removed]",
      "text/plain": [
       "<Figure size 1200x500 with 1 Axes>"
      ]
     },
     "metadata": {},
     "output_type": "display_data"
    },
    {
     "name": "stdout",
     "output_type": "stream",
     "text": [
      "Creating train test data...\n",
      "Training model...\n",
      "Epoch 1/100\n",
      "51/51 [==============================] - 1s 10ms/step - loss: 0.7912\n",
      "Epoch 2/100\n",
      "51/51 [==============================] - 0s 10ms/step - loss: 1.9981\n",
      "Epoch 3/100\n",
      "51/51 [==============================] - 0s 10ms/step - loss: 0.9046\n",
      "Epoch 4/100\n",
      "51/51 [==============================] - 0s 9ms/step - loss: 1.4695\n",
      "Epoch 5/100\n",
      "51/51 [==============================] - 0s 9ms/step - loss: 2.8269\n",
      "Epoch 6/100\n",
      "51/51 [==============================] - 0s 9ms/step - loss: 1.1361\n",
      "Epoch 7/100\n",
      "51/51 [==============================] - 1s 10ms/step - loss: 1.6432\n",
      "Epoch 8/100\n",
      "51/51 [==============================] - 0s 10ms/step - loss: 2.2596\n",
      "Epoch 9/100\n",
      "51/51 [==============================] - 0s 9ms/step - loss: 0.9046\n",
      "Epoch 10/100\n",
      "51/51 [==============================] - 0s 9ms/step - loss: 0.6238\n",
      "Epoch 11/100\n",
      "51/51 [==============================] - 0s 9ms/step - loss: 0.5474\n",
      "Epoch 12/100\n",
      "51/51 [==============================] - 0s 9ms/step - loss: 0.5284\n",
      "Epoch 13/100\n",
      "51/51 [==============================] - 0s 9ms/step - loss: 0.5128\n",
      "Epoch 14/100\n",
      "51/51 [==============================] - 0s 8ms/step - loss: 0.4997\n",
      "Epoch 15/100\n",
      "51/51 [==============================] - 0s 9ms/step - loss: 0.4919\n",
      "Epoch 16/100\n",
      "51/51 [==============================] - 0s 9ms/step - loss: 0.4867\n",
      "Epoch 17/100\n",
      "51/51 [==============================] - 0s 9ms/step - loss: 0.4776\n",
      "Epoch 18/100\n",
      "51/51 [==============================] - 0s 9ms/step - loss: 0.4779\n",
      "Epoch 19/100\n",
      "51/51 [==============================] - 0s 9ms/step - loss: 0.4598\n",
      "Epoch 20/100\n",
      "51/51 [==============================] - 0s 9ms/step - loss: 0.4937\n",
      "Epoch 21/100\n",
      "51/51 [==============================] - 0s 9ms/step - loss: 0.4851\n",
      "Epoch 22/100\n",
      "51/51 [==============================] - 1s 11ms/step - loss: 0.6571\n",
      "Epoch 23/100\n",
      "51/51 [==============================] - 1s 14ms/step - loss: 1.0234\n",
      "Epoch 24/100\n",
      "51/51 [==============================] - 1s 15ms/step - loss: 0.6527\n",
      "Epoch 25/100\n",
      "51/51 [==============================] - 1s 15ms/step - loss: 0.5176\n",
      "Epoch 26/100\n",
      "51/51 [==============================] - 1s 14ms/step - loss: 0.5073\n",
      "Epoch 27/100\n",
      "51/51 [==============================] - 1s 17ms/step - loss: 0.4857\n",
      "Epoch 28/100\n",
      "51/51 [==============================] - 1s 15ms/step - loss: 0.4762\n",
      "Epoch 29/100\n",
      "51/51 [==============================] - 1s 14ms/step - loss: 0.4604\n",
      "Epoch 30/100\n",
      "51/51 [==============================] - 1s 16ms/step - loss: 0.4496\n",
      "Epoch 31/100\n",
      "51/51 [==============================] - 1s 17ms/step - loss: 0.4426\n",
      "Epoch 32/100\n",
      "51/51 [==============================] - 1s 14ms/step - loss: 0.4284\n",
      "Epoch 33/100\n",
      "51/51 [==============================] - 1s 14ms/step - loss: 0.4262\n",
      "Epoch 34/100\n",
      "51/51 [==============================] - 1s 14ms/step - loss: 0.4167\n",
      "Epoch 35/100\n",
      "51/51 [==============================] - 1s 14ms/step - loss: 0.4372\n",
      "Epoch 36/100\n",
      "51/51 [==============================] - 1s 14ms/step - loss: 0.4565\n",
      "Epoch 37/100\n",
      "51/51 [==============================] - 1s 13ms/step - loss: 0.6015\n",
      "Epoch 38/100\n",
      "51/51 [==============================] - 1s 15ms/step - loss: 0.7590\n",
      "Epoch 39/100\n",
      "51/51 [==============================] - 1s 13ms/step - loss: 0.7555\n",
      "Epoch 40/100\n",
      "51/51 [==============================] - 1s 14ms/step - loss: 0.6890\n",
      "Epoch 41/100\n",
      "51/51 [==============================] - 1s 13ms/step - loss: 1.0714\n",
      "Epoch 42/100\n",
      "51/51 [==============================] - 1s 14ms/step - loss: 0.5897\n",
      "Epoch 43/100\n",
      "51/51 [==============================] - 1s 13ms/step - loss: 0.5755\n",
      "Epoch 44/100\n",
      "51/51 [==============================] - 1s 14ms/step - loss: 0.5896\n",
      "Epoch 45/100\n",
      "51/51 [==============================] - 1s 13ms/step - loss: 0.4515\n",
      "Epoch 46/100\n",
      "51/51 [==============================] - 1s 13ms/step - loss: 0.4367\n",
      "Epoch 47/100\n",
      "51/51 [==============================] - 1s 13ms/step - loss: 0.4265\n",
      "Epoch 48/100\n",
      "51/51 [==============================] - 1s 13ms/step - loss: 0.4068\n",
      "Epoch 49/100\n",
      "51/51 [==============================] - 1s 14ms/step - loss: 0.4062\n",
      "Epoch 50/100\n",
      "51/51 [==============================] - 1s 14ms/step - loss: 0.3903\n",
      "Epoch 51/100\n",
      "51/51 [==============================] - 1s 14ms/step - loss: 0.4123\n",
      "Epoch 52/100\n",
      "51/51 [==============================] - 1s 13ms/step - loss: 0.4317\n",
      "Epoch 53/100\n",
      "51/51 [==============================] - 1s 13ms/step - loss: 0.4781\n",
      "Epoch 54/100\n",
      "51/51 [==============================] - 1s 13ms/step - loss: 0.5066\n",
      "Epoch 55/100\n",
      "51/51 [==============================] - 1s 13ms/step - loss: 0.4826\n",
      "Epoch 56/100\n",
      "51/51 [==============================] - 1s 13ms/step - loss: 0.4990\n",
      "Epoch 57/100\n",
      "51/51 [==============================] - 1s 15ms/step - loss: 0.4301\n",
      "Epoch 58/100\n",
      "51/51 [==============================] - 1s 13ms/step - loss: 0.4346\n",
      "Epoch 59/100\n",
      "51/51 [==============================] - 1s 14ms/step - loss: 0.4046\n",
      "Epoch 60/100\n",
      "51/51 [==============================] - 1s 14ms/step - loss: 0.4040\n",
      "Epoch 61/100\n",
      "51/51 [==============================] - 1s 15ms/step - loss: 0.3935\n",
      "Epoch 62/100\n",
      "51/51 [==============================] - 1s 14ms/step - loss: 0.3969\n",
      "Epoch 63/100\n",
      "51/51 [==============================] - 1s 15ms/step - loss: 0.3989\n",
      "Epoch 64/100\n",
      "51/51 [==============================] - 1s 14ms/step - loss: 0.4148\n",
      "Epoch 65/100\n",
      "51/51 [==============================] - 1s 14ms/step - loss: 0.4105\n",
      "Epoch 66/100\n",
      "51/51 [==============================] - 1s 14ms/step - loss: 0.4329\n",
      "Epoch 67/100\n",
      "51/51 [==============================] - 1s 14ms/step - loss: 0.4427\n",
      "Epoch 68/100\n",
      "51/51 [==============================] - 1s 13ms/step - loss: 0.4737\n",
      "Epoch 69/100\n",
      "51/51 [==============================] - 1s 15ms/step - loss: 0.4279\n",
      "Epoch 70/100\n",
      "51/51 [==============================] - 1s 14ms/step - loss: 0.4236\n",
      "Epoch 71/100\n",
      "51/51 [==============================] - 1s 14ms/step - loss: 0.3822\n",
      "Epoch 72/100\n",
      "51/51 [==============================] - 1s 14ms/step - loss: 0.4026\n",
      "Epoch 73/100\n",
      "51/51 [==============================] - 1s 13ms/step - loss: 0.3802\n",
      "Epoch 74/100\n",
      "51/51 [==============================] - 1s 13ms/step - loss: 0.3800\n",
      "Epoch 75/100\n",
      "51/51 [==============================] - 1s 14ms/step - loss: 0.3561\n",
      "Epoch 76/100\n",
      "51/51 [==============================] - 1s 13ms/step - loss: 0.3684\n",
      "Epoch 77/100\n",
      "51/51 [==============================] - 1s 13ms/step - loss: 0.3576\n",
      "Epoch 78/100\n",
      "51/51 [==============================] - 1s 13ms/step - loss: 0.3785\n",
      "Epoch 79/100\n",
      "51/51 [==============================] - 1s 13ms/step - loss: 0.3843\n",
      "Epoch 80/100\n",
      "51/51 [==============================] - 1s 13ms/step - loss: 0.4073\n",
      "Epoch 81/100\n",
      "51/51 [==============================] - 1s 14ms/step - loss: 0.4360\n",
      "Epoch 82/100\n",
      "51/51 [==============================] - 1s 15ms/step - loss: 0.6209\n",
      "Epoch 83/100\n",
      "51/51 [==============================] - 1s 15ms/step - loss: 0.5274\n",
      "Epoch 84/100\n",
      "51/51 [==============================] - 1s 14ms/step - loss: 1.0854\n",
      "Epoch 85/100\n",
      "51/51 [==============================] - 1s 15ms/step - loss: 1.3226\n",
      "Epoch 86/100\n",
      "51/51 [==============================] - 1s 15ms/step - loss: 2.4881\n",
      "Epoch 87/100\n",
      "51/51 [==============================] - 1s 17ms/step - loss: 7.3678\n",
      "Epoch 88/100\n",
      "51/51 [==============================] - 1s 15ms/step - loss: 11.3240\n",
      "Epoch 89/100\n",
      "51/51 [==============================] - 1s 16ms/step - loss: 12.9275\n",
      "Epoch 90/100\n",
      "51/51 [==============================] - 1s 15ms/step - loss: 18.7978\n",
      "Epoch 91/100\n",
      "51/51 [==============================] - 1s 15ms/step - loss: 9.1350\n",
      "Epoch 92/100\n",
      "51/51 [==============================] - 1s 17ms/step - loss: 1.8692\n",
      "Epoch 93/100\n",
      "51/51 [==============================] - 1s 15ms/step - loss: 0.8808\n",
      "Epoch 94/100\n",
      "51/51 [==============================] - 1s 15ms/step - loss: 0.5494\n",
      "Epoch 95/100\n",
      "51/51 [==============================] - 1s 15ms/step - loss: 0.4461\n",
      "Epoch 96/100\n",
      "51/51 [==============================] - 1s 15ms/step - loss: 0.3969\n",
      "Epoch 97/100\n",
      "51/51 [==============================] - 1s 15ms/step - loss: 0.3688\n",
      "Epoch 98/100\n",
      "51/51 [==============================] - 1s 16ms/step - loss: 0.3569\n",
      "Epoch 99/100\n",
      "51/51 [==============================] - 1s 15ms/step - loss: 0.3488\n",
      "Epoch 100/100\n",
      "51/51 [==============================] - 1s 15ms/step - loss: 0.3404\n",
      "Doing prediction on test data...\n",
      "1/1 [==============================] - 0s 221ms/step\n"
     ]
    },
    {
     "data": {
      "image/png": "[encoded data removed]",
      "text/plain": [
       "<Figure size 1200x500 with 1 Axes>"
      ]
     },
     "metadata": {},
     "output_type": "display_data"
    }
   ],
   "source": [
    "for i in range(len(df_keys)):\n",
    "    _, hwsku, tenant, region = list(df_keys.loc[i])\n",
    "    do_process(df, hwsku, tenant, region)\n",
    "    break"
   ]
  },
  {
   "cell_type": "code",
   "execution_count": null,
   "id": "4b34ae55-7417-428a-b1fa-f7b92eccea7b",
   "metadata": {},
   "outputs": [],
   "source": [
    "# Filter based on Hwsku, Tenant and Region\n",
    "df_one = \\\n",
    "    df\\\n",
    "    [\\\n",
    "        (df.Hwsku == \"intel_all\")&\\\n",
    "        (df.Tenant == \"mnz26prdapp03\")&\\\n",
    "        (df.Region == \"useast\")\\\n",
    "    ].reset_index()"
   ]
  },
  {
   "cell_type": "code",
   "execution_count": null,
   "id": "1e0c8638-2017-416c-a916-8d8ffa21ed10",
   "metadata": {},
   "outputs": [],
   "source": [
    "df_one"
   ]
  },
  {
   "cell_type": "code",
   "execution_count": null,
   "id": "2461c6ac-33be-49fd-8d85-8e52cdc8de95",
   "metadata": {},
   "outputs": [],
   "source": [
    "# Select SnapshotTime and PhysicalCores\n",
    "df_filt = df_one[[\"SnapshotTime\", \"PhysicalCores\"]].copy()\n",
    "df_filt.rename(columns={\"PhysicalCores\":\"cores\"}, inplace=True)"
   ]
  },
  {
   "cell_type": "code",
   "execution_count": null,
   "id": "0a8439cb-ddec-4da6-a821-eb7eff27e8c9",
   "metadata": {},
   "outputs": [],
   "source": [
    "# Replace NULL with 0 values for PhysicalCores\n",
    "df_filt.fillna(0, inplace=True)"
   ]
  },
  {
   "cell_type": "code",
   "execution_count": null,
   "id": "fe2593ba-1267-4279-81af-05dca4eabcd5",
   "metadata": {},
   "outputs": [],
   "source": [
    "df_filt"
   ]
  },
  {
   "cell_type": "code",
   "execution_count": null,
   "id": "9e32107e-f5c7-4d45-a5ad-d314f5d6949d",
   "metadata": {},
   "outputs": [],
   "source": [
    "# Plotting function\n",
    "\n",
    "import numpy as np, pandas as pd\n",
    "from statsmodels.graphics.tsaplots import plot_acf, plot_pacf\n",
    "import matplotlib.pyplot as plt\n",
    "\n",
    "def plot_figure(values, label, title):\n",
    "    plt.figure(figsize=(12,5), dpi=100)\n",
    "    plt.plot(values, label=label)\n",
    "    plt.title(title)\n",
    "    plt.legend(loc='upper left', fontsize=8)\n",
    "    plt.show()"
   ]
  },
  {
   "cell_type": "code",
   "execution_count": null,
   "id": "505fde86-2710-46c4-8235-2bc284bd4101",
   "metadata": {},
   "outputs": [],
   "source": [
    "plot_figure(df_filt.cores, \"num_cores\", \"Physical Cores\")"
   ]
  },
  {
   "cell_type": "code",
   "execution_count": null,
   "id": "f0b389b0-aa2d-4623-9bf2-dbd39e67d3c9",
   "metadata": {},
   "outputs": [],
   "source": [
    "# Do FFT transform of the values to get the period of the series\n",
    "fft = np.fft.rfft(df_filt.cores)"
   ]
  },
  {
   "cell_type": "code",
   "execution_count": null,
   "id": "4949eaad-5d01-4340-82ca-43e7f3df5a43",
   "metadata": {},
   "outputs": [],
   "source": [
    "plot_figure(abs(fft)[1:], \"frequency\", \"FFT Transform\")"
   ]
  },
  {
   "cell_type": "code",
   "execution_count": null,
   "id": "876c8532-4289-4909-b9b5-753d2d60a8e6",
   "metadata": {},
   "outputs": [],
   "source": [
    "# Find period of series from FFT transformation\n",
    "# period of the data is around 168 = 24*7, the values have a weekly\n",
    "# cycle and since the data is 1hr window, thus period in number of hours = 7*24 = 168\n",
    "\n",
    "periods = np.argsort(abs(fft))[::-1][:10]\n",
    "period = [p for p in periods if p > 0][0]\n",
    "period = int(len(df_filt)/period)+1\n",
    "print(period)"
   ]
  },
  {
   "cell_type": "code",
   "execution_count": null,
   "id": "0cc133d0-ae08-47e2-83c2-b7d570c2e8ca",
   "metadata": {},
   "outputs": [],
   "source": [
    "# Decompose time series into trend, seasonal and residual components\n",
    "\n",
    "from statsmodels.tsa.seasonal import seasonal_decompose\n",
    "result = seasonal_decompose(df_filt.cores, \n",
    "                            model='additive', \n",
    "                            extrapolate_trend='freq', \n",
    "                            period=168)\n",
    "print(result.trend)\n",
    "print(result.seasonal)\n",
    "print(result.resid)\n",
    "print(result.observed)"
   ]
  },
  {
   "cell_type": "code",
   "execution_count": null,
   "id": "d508f988-ff86-4ec7-8cb0-fc6010116f63",
   "metadata": {},
   "outputs": [],
   "source": [
    "plot_figure([result.trend, result.seasonal, result.resid], \n",
    "            [\"trend\", \"seasonality\", \"residual\"], \n",
    "            [\"Trend\", \"Seasonality\", \"Residual\"])"
   ]
  },
  {
   "cell_type": "code",
   "execution_count": null,
   "id": "1a902415-3120-4e45-9eeb-66ddce6900d3",
   "metadata": {},
   "outputs": [],
   "source": [
    "# Plot decomposed time series\n",
    "\n",
    "plot_figure(result.trend, \"trend\", \"Trend\")\n",
    "plot_figure(result.seasonal, \"seasonality\", \"Seasonality\")\n",
    "plot_figure(result.resid, \"residual\", \"Residual\")"
   ]
  },
  {
   "cell_type": "code",
   "execution_count": null,
   "id": "106a10d9-062e-4bee-bc75-daad6a5d7147",
   "metadata": {},
   "outputs": [],
   "source": [
    "# Perform anomaly detection on residual series.\n",
    "# Here we are using the Isolation Forest algorithm\n",
    "\n",
    "from sklearn.ensemble import IsolationForest\n",
    "anomaly_data = [[x] for x in result.resid]\n",
    "clf = IsolationForest(random_state=0).fit(anomaly_data)\n",
    "out = clf.predict(anomaly_data)"
   ]
  },
  {
   "cell_type": "code",
   "execution_count": null,
   "id": "4b53986b-7384-41dd-8aea-7f3f82aa9d92",
   "metadata": {},
   "outputs": [],
   "source": [
    "# import numpy as np\n",
    "# x = np.percentile(result.resid, 10)\n",
    "# y = np.percentile(result.resid, 90)\n",
    "# out = [1 if (x-1.5*(y-x)) <= z <= (x+1.5*(y-x)) else -1 for z in result.resid]"
   ]
  },
  {
   "cell_type": "code",
   "execution_count": null,
   "id": "9e84afa9-c4eb-452b-8cd4-0755e280736b",
   "metadata": {},
   "outputs": [],
   "source": [
    "# Replace anomaly values with moving average of last 24 hours\n",
    "\n",
    "anomaly_indices = [i for i in range(len(out)) if out[i] == -1]\n",
    "anomaly_indices_prev = [[max(0,i-24), max(0,i-1)] for i in anomaly_indices]\n",
    "prev_averages = [df_filt[\"cores\"].loc[x:y].mean() for x, y in anomaly_indices_prev]"
   ]
  },
  {
   "cell_type": "code",
   "execution_count": null,
   "id": "103d99c1-2f1b-4916-a78d-4d54e632114b",
   "metadata": {},
   "outputs": [],
   "source": [
    "df_filt.loc[anomaly_indices, \"cores\"] = prev_averages"
   ]
  },
  {
   "cell_type": "code",
   "execution_count": null,
   "id": "3d6a6abd-5917-4e87-a4e3-3f5bbae3eaa3",
   "metadata": {},
   "outputs": [],
   "source": [
    "plot_figure(df_filt.cores, \"num_cores\", \"Physical Cores\")"
   ]
  },
  {
   "cell_type": "code",
   "execution_count": null,
   "id": "41c772a5-17ab-4f58-bb83-b2f62eced340",
   "metadata": {},
   "outputs": [],
   "source": [
    "from statsmodels.tsa.stattools import adfuller\n",
    "from numpy import log\n",
    "\n",
    "result = adfuller(df_filt.cores.dropna())\n",
    "print('ADF Statistic: %f' % result[0])\n",
    "print('p-value: %f' % result[1])"
   ]
  },
  {
   "cell_type": "code",
   "execution_count": null,
   "id": "0b555efc-f731-4f80-af07-61d11ab4f351",
   "metadata": {},
   "outputs": [],
   "source": [
    "import numpy as np, pandas as pd\n",
    "from statsmodels.graphics.tsaplots import plot_acf, plot_pacf\n",
    "import matplotlib.pyplot as plt\n",
    "plt.rcParams.update({'figure.figsize':(9,7), 'figure.dpi':120})\n",
    "\n",
    "# Original Series\n",
    "fig, axes = plt.subplots(3, 2, sharex=True)\n",
    "axes[0, 0].plot(df_filt.cores); axes[0, 0].set_title('Original Series')\n",
    "plot_acf(df_filt.cores, ax=axes[0, 1])\n",
    "\n",
    "# 1st Differencing\n",
    "axes[1, 0].plot(df_filt.cores.diff()); axes[1, 0].set_title('1st Order Differencing')\n",
    "plot_acf(df_filt.cores.diff().dropna(), ax=axes[1, 1])\n",
    "\n",
    "# 2nd Differencing\n",
    "axes[2, 0].plot(df_filt.cores.diff().diff()); axes[2, 0].set_title('2nd Order Differencing')\n",
    "plot_acf(df_filt.cores.diff().diff().dropna(), ax=axes[2, 1])\n",
    "\n",
    "plt.show()"
   ]
  },
  {
   "cell_type": "code",
   "execution_count": null,
   "id": "bfd757ee-f5a9-4425-b714-488125e7fef5",
   "metadata": {},
   "outputs": [],
   "source": [
    "# PACF plot of 1st differenced series\n",
    "plt.rcParams.update({'figure.figsize':(9,3), 'figure.dpi':120})\n",
    "\n",
    "fig, axes = plt.subplots(1, 2, sharex=True)\n",
    "axes[0].plot(df_filt.cores.diff()); axes[0].set_title('1st Differencing')\n",
    "axes[1].set(ylim=(0,5))\n",
    "plot_pacf(df_filt.cores.diff().dropna(), ax=axes[1])\n",
    "\n",
    "plt.show()"
   ]
  },
  {
   "cell_type": "code",
   "execution_count": null,
   "id": "fe5c1f38-b52f-4a13-9654-b3023693c56a",
   "metadata": {},
   "outputs": [],
   "source": [
    "import pandas as pd\n",
    "from statsmodels.graphics.tsaplots import plot_acf, plot_pacf\n",
    "import matplotlib.pyplot as plt\n",
    "plt.rcParams.update({'figure.figsize':(9,3), 'figure.dpi':120})\n",
    "\n",
    "fig, axes = plt.subplots(1, 2, sharex=True)\n",
    "axes[0].plot(df_filt.cores.diff()); axes[0].set_title('1st Differencing')\n",
    "axes[1].set(ylim=(0,1.2))\n",
    "plot_acf(df_filt.cores.diff().dropna(), ax=axes[1])\n",
    "\n",
    "plt.show()"
   ]
  },
  {
   "cell_type": "code",
   "execution_count": null,
   "id": "6d1ee87a-bf26-4705-a865-8be625684b36",
   "metadata": {},
   "outputs": [],
   "source": [
    "from statsmodels.tsa.stattools import acf\n",
    "\n",
    "# Create Training and Test\n",
    "n = int(0.9*len(df_filt))\n",
    "train = df_filt.cores[:n]\n",
    "test = df_filt.cores[n:]"
   ]
  },
  {
   "cell_type": "code",
   "execution_count": null,
   "id": "093fd8f2-22d5-459f-975a-68f2d3857e91",
   "metadata": {},
   "outputs": [],
   "source": [
    "train"
   ]
  },
  {
   "cell_type": "code",
   "execution_count": null,
   "id": "14be47bb-2c59-4860-a219-ed60a9ff0125",
   "metadata": {},
   "outputs": [],
   "source": [
    "test"
   ]
  },
  {
   "cell_type": "code",
   "execution_count": null,
   "id": "c3f5bbfd-3826-40b7-9ad0-bbf66fed685f",
   "metadata": {},
   "outputs": [],
   "source": [
    "import pmdarima as pm\n",
    "\n",
    "# Seasonal - fit stepwise auto-ARIMA\n",
    "smodel = pm.auto_arima(train, \n",
    "                       start_p=0, \n",
    "                       start_q=0, \n",
    "                       test='adf', \n",
    "                       max_p=3, \n",
    "                       max_q=3, \n",
    "                       m=168, \n",
    "                       start_P=0, \n",
    "                       max_P=3, \n",
    "                       start_Q=0, \n",
    "                       max_Q=3, \n",
    "                       max_D=3, \n",
    "                       seasonal=True, \n",
    "                       d=1, \n",
    "                       D=1, \n",
    "                       trace=True, \n",
    "                       error_action='ignore',  \n",
    "                       suppress_warnings=True, \n",
    "                       stepwise=True)\n",
    "\n",
    "smodel.summary()"
   ]
  },
  {
   "cell_type": "code",
   "execution_count": null,
   "id": "09a6f876-4582-48cf-8428-c1eb7c9b9e6a",
   "metadata": {},
   "outputs": [],
   "source": [
    "# Accuracy metrics\n",
    "def forecast_accuracy(forecast, actual):\n",
    "    mape = np.mean(np.abs(forecast - actual)/np.abs(actual))  # MAPE\n",
    "    me = np.mean(forecast - actual)             # ME\n",
    "    mae = np.mean(np.abs(forecast - actual))    # MAE\n",
    "    mpe = np.mean((forecast - actual)/actual)   # MPE\n",
    "    rmse = np.mean((forecast - actual)**2)**.5  # RMSE\n",
    "    \n",
    "    return({'mape':mape, 'me':me, 'mae': mae, \n",
    "            'mpe': mpe, 'rmse':rmse})"
   ]
  },
  {
   "cell_type": "code",
   "execution_count": null,
   "id": "ac98e9d9-7aff-4482-8a0b-090ae17b3b9f",
   "metadata": {},
   "outputs": [],
   "source": [
    "preds = smodel.predict(val.shape[0])"
   ]
  },
  {
   "cell_type": "code",
   "execution_count": null,
   "id": "aca3285b-cfba-4436-9074-0c61bd0fcd92",
   "metadata": {},
   "outputs": [],
   "source": [
    "forecast_accuracy(preds, val.values)"
   ]
  },
  {
   "cell_type": "code",
   "execution_count": null,
   "id": "d051bb0e-f7c9-4e78-89d4-c4531ea7f30c",
   "metadata": {},
   "outputs": [],
   "source": [
    "# Forecast\n",
    "# Make as pandas series\n",
    "fc_series = pd.Series(preds, index=val.index)\n",
    "\n",
    "# Plot\n",
    "plt.figure(figsize=(12,5), dpi=100)\n",
    "plt.plot(train, label='training')\n",
    "plt.plot(val, label='actual')\n",
    "plt.plot(fc_series, label='forecast')\n",
    "plt.title('Forecast vs Actuals')\n",
    "plt.legend(loc='upper left', fontsize=8)\n",
    "plt.show()"
   ]
  },
  {
   "cell_type": "code",
   "execution_count": null,
   "id": "aa8b2286-1f85-4406-a615-b0bd216ce4ea",
   "metadata": {},
   "outputs": [],
   "source": [
    "class WindowGenerator():\n",
    "  def __init__(self, input_width, label_width, shift,\n",
    "               train_df, test_df,\n",
    "               label_columns=None):\n",
    "      \n",
    "    # Store the raw data.\n",
    "    self.train_df = train_df\n",
    "    self.test_df = test_df\n",
    "\n",
    "    # Work out the label column indices.\n",
    "    self.label_columns = label_columns\n",
    "    if label_columns is not None:\n",
    "      self.label_columns_indices = {name: i for i, name in\n",
    "                                    enumerate(label_columns)}\n",
    "    self.column_indices = {name: i for i, name in\n",
    "                           enumerate(train_df.columns)}\n",
    "\n",
    "    # Work out the window parameters.\n",
    "    self.input_width = input_width\n",
    "    self.label_width = label_width\n",
    "    self.shift = shift\n",
    "\n",
    "    self.total_window_size = input_width + shift\n",
    "\n",
    "    self.input_slice = slice(0, input_width)\n",
    "    self.input_indices = np.arange(self.total_window_size)[self.input_slice]\n",
    "\n",
    "    self.label_start = self.total_window_size - self.label_width\n",
    "    self.labels_slice = slice(self.label_start, None)\n",
    "    self.label_indices = np.arange(self.total_window_size)[self.labels_slice]\n",
    "\n",
    "  def __repr__(self):\n",
    "    return '\\n'.join([\n",
    "        f'Total window size: {self.total_window_size}',\n",
    "        f'Input indices: {self.input_indices}',\n",
    "        f'Label indices: {self.label_indices}',\n",
    "        f'Label column name(s): {self.label_columns}'])"
   ]
  },
  {
   "cell_type": "code",
   "execution_count": null,
   "id": "dfc8d7e7-9188-43d7-84e1-f9150bad0af6",
   "metadata": {},
   "outputs": [],
   "source": [
    "def split_window(self, features):\n",
    "  inputs = features[:, self.input_slice, :]\n",
    "  labels = features[:, self.labels_slice, :]\n",
    "  if self.label_columns is not None:\n",
    "    labels = tf.stack(\n",
    "        [labels[:, :, self.column_indices[name]] for name in self.label_columns],\n",
    "        axis=-1)\n",
    "\n",
    "  # Slicing doesn't preserve static shape information, so set the shapes\n",
    "  # manually. This way the `tf.data.Datasets` are easier to inspect.\n",
    "  inputs.set_shape([None, self.input_width, None])\n",
    "  labels.set_shape([None, self.label_width, None])\n",
    "\n",
    "  return inputs, labels\n",
    "\n",
    "WindowGenerator.split_window = split_window"
   ]
  },
  {
   "cell_type": "code",
   "execution_count": null,
   "id": "557c23e2-b7a3-4e7a-bd74-a6a5564673e9",
   "metadata": {},
   "outputs": [],
   "source": [
    "def plot(self, model=None, plot_col='cores', max_subplots=3):\n",
    "  inputs, labels = self.example\n",
    "  plt.figure(figsize=(12, 8))\n",
    "  plot_col_index = self.column_indices[plot_col]\n",
    "  max_n = min(max_subplots, len(inputs))\n",
    "  for n in range(max_n):\n",
    "    plt.subplot(max_n, 1, n+1)\n",
    "    plt.ylabel(f'{plot_col} [normed]')\n",
    "    plt.plot(self.input_indices, inputs[n, :, plot_col_index],\n",
    "             label='Inputs', marker='.', zorder=-10)\n",
    "\n",
    "    if self.label_columns:\n",
    "      label_col_index = self.label_columns_indices.get(plot_col, None)\n",
    "    else:\n",
    "      label_col_index = plot_col_index\n",
    "\n",
    "    if label_col_index is None:\n",
    "      continue\n",
    "\n",
    "    plt.scatter(self.label_indices, labels[n, :, label_col_index],\n",
    "                edgecolors='k', label='Labels', c='#2ca02c', s=64)\n",
    "    if model is not None:\n",
    "      predictions = model(inputs)\n",
    "      plt.scatter(self.label_indices, predictions[n, :, label_col_index],\n",
    "                  marker='X', edgecolors='k', label='Predictions',\n",
    "                  c='#ff7f0e', s=64)\n",
    "\n",
    "    if n == 0:\n",
    "      plt.legend()\n",
    "\n",
    "  plt.xlabel('Time [h]')\n",
    "\n",
    "WindowGenerator.plot = plot"
   ]
  },
  {
   "cell_type": "code",
   "execution_count": null,
   "id": "d5936d95-6d34-4b3c-81c2-c2d4443228ed",
   "metadata": {},
   "outputs": [],
   "source": [
    "def make_dataset(self, data):\n",
    "  data = np.array(data, dtype=np.float32)\n",
    "  ds = tf.keras.utils.timeseries_dataset_from_array(\n",
    "      data=data,\n",
    "      targets=None,\n",
    "      sequence_length=self.total_window_size,\n",
    "      sequence_stride=1,\n",
    "      shuffle=True,\n",
    "      batch_size=32,)\n",
    "\n",
    "  ds = ds.map(self.split_window)\n",
    "\n",
    "  return ds\n",
    "\n",
    "WindowGenerator.make_dataset = make_dataset"
   ]
  },
  {
   "cell_type": "code",
   "execution_count": null,
   "id": "335f4391-0eb2-451b-95fc-e7c20d932bfc",
   "metadata": {},
   "outputs": [],
   "source": [
    "@property\n",
    "def _train(self):\n",
    "  return self.make_dataset(self.train_df)\n",
    "\n",
    "@property\n",
    "def _val(self):\n",
    "  return self.make_dataset(self.val_df)\n",
    "\n",
    "@property\n",
    "def _test(self):\n",
    "  return self.make_dataset(self.test_df)\n",
    "\n",
    "@property\n",
    "def example(self):\n",
    "  \"\"\"Get and cache an example batch of `inputs, labels` for plotting.\"\"\"\n",
    "  result = getattr(self, '_example', None)\n",
    "  if result is None:\n",
    "    # No example batch was found, so get one from the `.train` dataset\n",
    "    result = next(iter(self._train))\n",
    "    # And cache it for next time\n",
    "    self._example = result\n",
    "  return result\n",
    "\n",
    "WindowGenerator._train = _train\n",
    "WindowGenerator._val = _val\n",
    "WindowGenerator._test = _test\n",
    "WindowGenerator.example = example"
   ]
  },
  {
   "cell_type": "code",
   "execution_count": null,
   "id": "ac3c3498-3cb2-4fab-8f1a-44ccaf5290d4",
   "metadata": {},
   "outputs": [],
   "source": [
    "MAX_EPOCHS = 100\n",
    "\n",
    "def compile_and_fit(model, window, patience=5):\n",
    "  early_stopping = tf.keras.callbacks.EarlyStopping(monitor='val_loss',\n",
    "                                                    patience=patience,\n",
    "                                                    mode='min')\n",
    "\n",
    "  model.compile(loss=tf.keras.losses.MeanSquaredError(),\n",
    "                optimizer=tf.keras.optimizers.Adam(),\n",
    "                metrics=[tf.keras.metrics.MeanAbsoluteError()])\n",
    "\n",
    "  history = model.fit(window._train, epochs=MAX_EPOCHS)\n",
    "  return history"
   ]
  },
  {
   "cell_type": "code",
   "execution_count": null,
   "id": "3843fa39-d5b1-4fd3-bc24-4175073779d9",
   "metadata": {},
   "outputs": [],
   "source": [
    "import os\n",
    "import datetime\n",
    "\n",
    "import IPython\n",
    "import IPython.display\n",
    "import matplotlib as mpl\n",
    "import matplotlib.pyplot as plt\n",
    "import numpy as np\n",
    "import pandas as pd\n",
    "import seaborn as sns\n",
    "import tensorflow as tf\n",
    "\n",
    "IN_STEPS = test.shape[0]\n",
    "OUT_STEPS = test.shape[0]"
   ]
  },
  {
   "cell_type": "code",
   "execution_count": null,
   "id": "1cf13a1f-e587-444c-a4a3-e244cad5ce0b",
   "metadata": {},
   "outputs": [],
   "source": [
    "class FeedBack(tf.keras.Model):\n",
    "  def __init__(self, units, out_steps):\n",
    "    super().__init__()\n",
    "    self.out_steps = out_steps\n",
    "    self.units = units\n",
    "    self.lstm_cell = tf.keras.layers.LSTMCell(units)\n",
    "    # Also wrap the LSTMCell in an RNN to simplify the `warmup` method.\n",
    "    self.lstm_rnn = tf.keras.layers.RNN(self.lstm_cell, return_state=True)\n",
    "    self.dense = tf.keras.layers.Dense(1)\n",
    "\n",
    "def warmup(self, inputs):\n",
    "  # inputs.shape => (batch, time, features)\n",
    "  # x.shape => (batch, lstm_units)\n",
    "  x, *state = self.lstm_rnn(inputs)\n",
    "\n",
    "  # predictions.shape => (batch, features)\n",
    "  prediction = self.dense(x)\n",
    "  return prediction, state\n",
    "\n",
    "FeedBack.warmup = warmup\n",
    "\n",
    "def call(self, inputs, training=None):\n",
    "  # Use a TensorArray to capture dynamically unrolled outputs.\n",
    "  predictions = []\n",
    "  # Initialize the LSTM state.\n",
    "  prediction, state = self.warmup(inputs)\n",
    "\n",
    "  # Insert the first prediction.\n",
    "  predictions.append(prediction)\n",
    "\n",
    "  # Run the rest of the prediction steps.\n",
    "  for n in range(1, self.out_steps):\n",
    "    # Use the last prediction as input.\n",
    "    x = prediction\n",
    "    # Execute one lstm step.\n",
    "    x, state = self.lstm_cell(x, states=state,\n",
    "                              training=training)\n",
    "    # Convert the lstm output to a prediction.\n",
    "    prediction = self.dense(x)\n",
    "    # Add the prediction to the output.\n",
    "    predictions.append(prediction)\n",
    "\n",
    "  # predictions.shape => (time, batch, features)\n",
    "  predictions = tf.stack(predictions)\n",
    "  # predictions.shape => (batch, time, features)\n",
    "  predictions = tf.transpose(predictions, [1, 0, 2])\n",
    "  return predictions\n",
    "\n",
    "FeedBack.call = call\n",
    "\n",
    "feedback_model = FeedBack(units=32, out_steps=OUT_STEPS)"
   ]
  },
  {
   "cell_type": "code",
   "execution_count": null,
   "id": "f6110a92-1c50-4347-8bde-8ef07f90aa75",
   "metadata": {},
   "outputs": [],
   "source": [
    "multi_lstm_model = tf.keras.Sequential([\n",
    "    # Shape [batch, time, features] => [batch, lstm_units].\n",
    "    # Adding more `lstm_units` just overfits more quickly.\n",
    "    tf.keras.layers.LSTM(32, return_sequences=False),\n",
    "    # Shape => [batch, out_steps*features].\n",
    "    tf.keras.layers.Dense(OUT_STEPS, kernel_initializer=tf.initializers.zeros()),\n",
    "    # Shape => [batch, out_steps, features].\n",
    "    tf.keras.layers.Reshape([OUT_STEPS, 1])\n",
    "])"
   ]
  },
  {
   "cell_type": "code",
   "execution_count": null,
   "id": "acc19fb4-ee8e-4482-9d9c-942ffed43d8a",
   "metadata": {},
   "outputs": [],
   "source": [
    "CONV_WIDTH = IN_STEPS\n",
    "multi_conv_model = tf.keras.Sequential([\n",
    "    # Shape [batch, time, features] => [batch, CONV_WIDTH, features]\n",
    "    tf.keras.layers.Lambda(lambda x: x[:, -CONV_WIDTH:, :]),\n",
    "    # Shape => [batch, 1, conv_units]\n",
    "    tf.keras.layers.Conv1D(4096, activation='relu', kernel_size=(CONV_WIDTH)),\n",
    "    # Shape => [batch, 1,  out_steps*features]\n",
    "    tf.keras.layers.Dense(OUT_STEPS,\n",
    "                          kernel_initializer=tf.initializers.zeros()),\n",
    "    # Shape => [batch, out_steps, features]\n",
    "    tf.keras.layers.Reshape([OUT_STEPS, 1])\n",
    "])"
   ]
  },
  {
   "cell_type": "code",
   "execution_count": null,
   "id": "71ff14dc-6242-4b2e-a950-0a6a70f39bbc",
   "metadata": {},
   "outputs": [],
   "source": [
    "multi_dense_model = tf.keras.Sequential([\n",
    "    # Take the last time step.\n",
    "    # Shape [batch, time, features] => [batch, 1, features]\n",
    "    tf.keras.layers.Lambda(lambda x: x[:, -1:, :]),\n",
    "    # Shape => [batch, 1, dense_units]\n",
    "    tf.keras.layers.Dense(512, activation='relu'),\n",
    "    # Shape => [batch, out_steps*features]\n",
    "    tf.keras.layers.Dense(OUT_STEPS,\n",
    "                          kernel_initializer=tf.initializers.zeros()),\n",
    "    # Shape => [batch, out_steps, features]\n",
    "    tf.keras.layers.Reshape([OUT_STEPS, 1])\n",
    "])"
   ]
  },
  {
   "cell_type": "code",
   "execution_count": null,
   "id": "dd3a42bd-3107-4a22-8e6e-3586921ff710",
   "metadata": {},
   "outputs": [],
   "source": [
    "train_df=pd.DataFrame(train)\n",
    "test_df=pd.DataFrame(test)\n",
    "\n",
    "train_mean = train_df.mean()\n",
    "train_std = train_df.std()\n",
    "\n",
    "train_df = (train_df - train_mean) / train_std\n",
    "test_df = (test_df - train_mean) / train_std"
   ]
  },
  {
   "cell_type": "code",
   "execution_count": null,
   "id": "9c617230-97d6-4eb9-884c-656bc854ead5",
   "metadata": {},
   "outputs": [],
   "source": [
    "w1 = WindowGenerator(input_width=IN_STEPS, label_width=OUT_STEPS, shift=OUT_STEPS, train_df=train_df, test_df=test_df, label_columns=['cores'])\n",
    "w1"
   ]
  },
  {
   "cell_type": "code",
   "execution_count": null,
   "id": "64f79325-029d-44e8-8c1d-03440340b3f9",
   "metadata": {},
   "outputs": [],
   "source": [
    "history = compile_and_fit(multi_conv_model, w1)"
   ]
  },
  {
   "cell_type": "code",
   "execution_count": null,
   "id": "fa8b0228-81e2-44ed-87db-5e2a460df4fd",
   "metadata": {},
   "outputs": [],
   "source": [
    "h = w1.make_dataset(pd.concat([w1.train_df[-IN_STEPS:], w1.test_df]))\n",
    "preds = multi_conv_model.predict(h)"
   ]
  },
  {
   "cell_type": "code",
   "execution_count": null,
   "id": "66435305-68bb-4494-a561-80efa528bff2",
   "metadata": {},
   "outputs": [],
   "source": [
    "w1.plot(multi_conv_model)"
   ]
  },
  {
   "cell_type": "code",
   "execution_count": null,
   "id": "72e445d0-c708-4b0c-ba82-2641b498873f",
   "metadata": {},
   "outputs": [],
   "source": [
    "preds2 = preds[0]*train_std[0]+train_mean[0]"
   ]
  },
  {
   "cell_type": "code",
   "execution_count": null,
   "id": "308df866-fe60-484b-9872-fd17d8143e40",
   "metadata": {},
   "outputs": [],
   "source": [
    "preds2 = preds2.reshape(1,OUT_STEPS)[0]"
   ]
  },
  {
   "cell_type": "code",
   "execution_count": null,
   "id": "bf0cabfc-85e4-44d9-a933-3c08f7c18da6",
   "metadata": {},
   "outputs": [],
   "source": [
    "preds2"
   ]
  },
  {
   "cell_type": "code",
   "execution_count": null,
   "id": "71a6d09a-5f19-4bb3-b272-6aac816013b8",
   "metadata": {},
   "outputs": [],
   "source": [
    "# Forecast\n",
    "\n",
    "# Make as pandas series\n",
    "fc_series = pd.Series(preds2, index=test.index)\n",
    "\n",
    "# Plot\n",
    "plt.figure(figsize=(12,5), dpi=100)\n",
    "# plt.plot(train, label='training')\n",
    "plt.plot(test, label='actual')\n",
    "plt.plot(fc_series, label='forecast')\n",
    "plt.title('Forecast vs Actuals')\n",
    "plt.legend(loc='upper left', fontsize=8)\n",
    "plt.show()"
   ]
  },
  {
   "cell_type": "code",
   "execution_count": null,
   "id": "6e3189fe-e9db-43f3-8c33-b39ded0acb89",
   "metadata": {},
   "outputs": [],
   "source": [
    "train"
   ]
  },
  {
   "cell_type": "code",
   "execution_count": null,
   "id": "92f597b5-587c-4c7d-89bd-902cc092b0b6",
   "metadata": {},
   "outputs": [],
   "source": [
    "def create_dataset(X, input_steps=1, output_steps=1):\n",
    "    Xs, ys = [], []\n",
    "    \n",
    "    for i in range(len(X) - input_steps - output_steps):\n",
    "        u = X.iloc[i:(i + input_steps)].values\n",
    "        v = X.iloc[(i + input_steps):(i + input_steps + output_steps)].values\n",
    "        Xs.append(u)        \n",
    "        ys.append(v)\n",
    "\n",
    "    Xs = np.array(Xs)\n",
    "    Xs = Xs.reshape(Xs.shape[0], Xs.shape[1], 1)\n",
    "\n",
    "    Ys = np.array(Ys)\n",
    "    Ys = Xs.reshape(Ys.shape[0], Ys.shape[1], 1)\n",
    "    \n",
    "    return Xs, Ys"
   ]
  },
  {
   "cell_type": "code",
   "execution_count": null,
   "id": "d3ebe285-318f-41b0-be78-6fa830de662b",
   "metadata": {},
   "outputs": [],
   "source": [
    "train_df=pd.DataFrame(train)\n",
    "\n",
    "train_mean = train_df.mean()\n",
    "train_std = train_df.std()"
   ]
  },
  {
   "cell_type": "code",
   "execution_count": null,
   "id": "2d6b8836-7815-483e-82b5-6652e284e099",
   "metadata": {},
   "outputs": [],
   "source": [
    "(train - train_mean[0]) / train_std[0]"
   ]
  },
  {
   "cell_type": "code",
   "execution_count": null,
   "id": "54ee09ea-7924-400c-a7c2-210e49d03f8a",
   "metadata": {},
   "outputs": [],
   "source": [
    "train_df=pd.DataFrame(train)\n",
    "\n",
    "train_mean = train_df.mean()\n",
    "train_std = train_df.std()\n",
    "\n",
    "train = (train - train_mean[0]) / train_std[0]"
   ]
  },
  {
   "cell_type": "code",
   "execution_count": null,
   "id": "19bd5085-a434-4d16-bbf9-1ec615f51851",
   "metadata": {},
   "outputs": [],
   "source": [
    "train"
   ]
  },
  {
   "cell_type": "code",
   "execution_count": null,
   "id": "a71e1ad5-704a-4378-8e08-b187daf402eb",
   "metadata": {},
   "outputs": [],
   "source": [
    "X_train, y_train = create_dataset(train, IN_STEPS, OUT_STEPS)"
   ]
  },
  {
   "cell_type": "code",
   "execution_count": null,
   "id": "71e7bf02-daf0-477e-b2fd-2b95b9520c51",
   "metadata": {},
   "outputs": [],
   "source": [
    "X_train = X_train.reshape(X_train.shape[0], X_train.shape[1], 1)\n",
    "y_train = y_train.reshape(y_train.shape[0], y_train.shape[1], 1)"
   ]
  },
  {
   "cell_type": "code",
   "execution_count": null,
   "id": "3b3e2344-72e2-47c9-9189-bb4c542b65e2",
   "metadata": {},
   "outputs": [],
   "source": [
    "X_train"
   ]
  },
  {
   "cell_type": "code",
   "execution_count": null,
   "id": "15c04fc9-4fc6-4c37-84e4-47478ec03550",
   "metadata": {},
   "outputs": [],
   "source": [
    "model = tf.keras.Sequential()\n",
    "model.add(tf.keras.layers.Conv1D(filters=4096, kernel_size=IN_STEPS, activation='relu', input_shape=(IN_STEPS, 1)))\n",
    "model.add(tf.keras.layers.Dense(OUT_STEPS, kernel_initializer=tf.initializers.zeros()))\n",
    "model.add(tf.keras.layers.Reshape([OUT_STEPS, 1]))\n",
    "model.compile(loss='mean_squared_error', optimizer=tf.keras.optimizers.Adam(0.001))"
   ]
  },
  {
   "cell_type": "code",
   "execution_count": null,
   "id": "83780b44-51ab-4cd1-9576-9549afdf53b3",
   "metadata": {},
   "outputs": [],
   "source": [
    "history = model.fit(\n",
    "    X_train, y_train, \n",
    "    epochs=100, \n",
    "    batch_size=32, \n",
    "    validation_split=None, \n",
    "    verbose=1, \n",
    "    shuffle=False\n",
    ")"
   ]
  },
  {
   "cell_type": "code",
   "execution_count": null,
   "id": "40de3616-57c9-40bf-8e93-bca7430b772e",
   "metadata": {},
   "outputs": [],
   "source": [
    "u = train.iloc[-IN_STEPS:].values"
   ]
  },
  {
   "cell_type": "code",
   "execution_count": null,
   "id": "5dec6834-307a-42a4-ae40-902a356d8306",
   "metadata": {},
   "outputs": [],
   "source": [
    "u"
   ]
  },
  {
   "cell_type": "code",
   "execution_count": null,
   "id": "8b7dcaf5-c099-4041-bfcd-52b3a373138e",
   "metadata": {},
   "outputs": [],
   "source": [
    "u = np.array(u).reshape(1, IN_STEPS, 1)"
   ]
  },
  {
   "cell_type": "code",
   "execution_count": null,
   "id": "cf8ce527-b920-497f-af44-631cf41af595",
   "metadata": {},
   "outputs": [],
   "source": [
    "v = model.predict(u)"
   ]
  },
  {
   "cell_type": "code",
   "execution_count": null,
   "id": "c2ad37a7-24ec-4b1a-adcc-cd27eb17c33c",
   "metadata": {},
   "outputs": [],
   "source": [
    "v = v[0]*train_std[0]+train_mean[0]"
   ]
  },
  {
   "cell_type": "code",
   "execution_count": null,
   "id": "2f489687-6739-4da4-aa65-3a80db24e594",
   "metadata": {},
   "outputs": [],
   "source": [
    "v = v.reshape(1, v.shape[0])"
   ]
  },
  {
   "cell_type": "code",
   "execution_count": null,
   "id": "53f54595-0ba6-4ffa-917b-94360c8acace",
   "metadata": {},
   "outputs": [],
   "source": [
    "v[0].tolist()"
   ]
  },
  {
   "cell_type": "code",
   "execution_count": null,
   "id": "6e4f24ec-bf4c-42a9-9127-64429402b6c4",
   "metadata": {},
   "outputs": [],
   "source": [
    "# Forecast\n",
    "\n",
    "# Make as pandas series\n",
    "\n",
    "# Plot\n",
    "plt.figure(figsize=(12,5), dpi=100)\n",
    "# plt.plot(train, label='training')\n",
    "plt.plot(test.tolist(), label='actual')\n",
    "plt.plot(v[0].tolist(), label='forecast')\n",
    "plt.title('Forecast vs Actuals')\n",
    "plt.legend(loc='upper left', fontsize=8)\n",
    "plt.show()"
   ]
  },
  {
   "cell_type": "code",
   "execution_count": null,
   "id": "0deeb04c-b08b-441a-b37b-5ed909a2d83c",
   "metadata": {},
   "outputs": [],
   "source": []
  }
 ],
 "metadata": {
  "kernelspec": {
   "display_name": "Python 3 (ipykernel)",
   "language": "python",
   "name": "python3"
  },
  "language_info": {
   "codemirror_mode": {
    "name": "ipython",
    "version": 3
   },
   "file_extension": ".py",
   "mimetype": "text/x-python",
   "name": "python",
   "nbconvert_exporter": "python",
   "pygments_lexer": "ipython3",
   "version": "3.10.11"
  }
 },
 "nbformat": 4,
 "nbformat_minor": 5
}
